{
 "cells": [
  {
   "cell_type": "markdown",
   "id": "c35e2c2f-be54-41f8-b3f3-54dd303e0f85",
   "metadata": {},
   "source": [
    "# Introduction to Pandas"
   ]
  },
  {
   "cell_type": "code",
   "execution_count": 2,
   "id": "040f5d60-42ca-4730-a46d-9808d99605c5",
   "metadata": {},
   "outputs": [],
   "source": [
    "# Import Numpy and Pandas\n",
    "import numpy as np\n",
    "import pandas as pd\n",
    "from pandas import Series, DataFrame"
   ]
  },
  {
   "cell_type": "markdown",
   "id": "47531b80-0d56-426b-b6be-aa5b77970002",
   "metadata": {},
   "source": [
    "### Series"
   ]
  },
  {
   "cell_type": "markdown",
   "id": "0fc3a39a-4934-4ca3-8851-505ac942ba5d",
   "metadata": {},
   "source": [
    "A series is a 1d array with axis labels (an index)"
   ]
  },
  {
   "cell_type": "code",
   "execution_count": 4,
   "id": "53f05e63-fcb8-409d-9450-efcacb63bdb2",
   "metadata": {},
   "outputs": [
    {
     "data": {
      "text/plain": [
       "0    10\n",
       "1    20\n",
       "2    30\n",
       "dtype: int64"
      ]
     },
     "execution_count": 4,
     "metadata": {},
     "output_type": "execute_result"
    }
   ],
   "source": [
    "# Creating a series from a list\n",
    "x = pd.Series([10,20,30])\n",
    "x"
   ]
  },
  {
   "cell_type": "code",
   "execution_count": 5,
   "id": "f95a451a-8ef0-4803-9120-367f92e15c13",
   "metadata": {},
   "outputs": [
    {
     "data": {
      "text/plain": [
       "RangeIndex(start=0, stop=3, step=1)"
      ]
     },
     "execution_count": 5,
     "metadata": {},
     "output_type": "execute_result"
    }
   ],
   "source": [
    "# We can access different components separetly\n",
    "x.index"
   ]
  },
  {
   "cell_type": "code",
   "execution_count": 6,
   "id": "4c66631c-71a5-4ccb-8ba5-8e53113128aa",
   "metadata": {},
   "outputs": [
    {
     "data": {
      "text/plain": [
       "array([10, 20, 30], dtype=int64)"
      ]
     },
     "execution_count": 6,
     "metadata": {},
     "output_type": "execute_result"
    }
   ],
   "source": [
    "# Access values\n",
    "x.values"
   ]
  },
  {
   "cell_type": "code",
   "execution_count": 7,
   "id": "e52d8efe-390a-45c1-871c-bd92b48992bd",
   "metadata": {},
   "outputs": [
    {
     "data": {
      "text/plain": [
       "dtype('int64')"
      ]
     },
     "execution_count": 7,
     "metadata": {},
     "output_type": "execute_result"
    }
   ],
   "source": [
    "# Acess data type\n",
    "# ndarrya is homogenous, single data type\n",
    "x.dtype"
   ]
  },
  {
   "cell_type": "code",
   "execution_count": 8,
   "id": "68b439d2-973a-4ce1-b189-cd79aba7e509",
   "metadata": {},
   "outputs": [],
   "source": [
    "# Creating a Series with an index\n",
    "data = [10,20,30]\n",
    "sales = Series(data, index=['yes','no','okay'])"
   ]
  },
  {
   "cell_type": "code",
   "execution_count": 9,
   "id": "3bd6a818-5157-448c-96b0-32425393691b",
   "metadata": {},
   "outputs": [
    {
     "data": {
      "text/plain": [
       "pandas.core.series.Series"
      ]
     },
     "execution_count": 9,
     "metadata": {},
     "output_type": "execute_result"
    }
   ],
   "source": [
    "# Type of sales\n",
    "type(sales)"
   ]
  },
  {
   "cell_type": "code",
   "execution_count": 10,
   "id": "0f9473ec-c6df-469b-a617-ec3092cdab68",
   "metadata": {},
   "outputs": [
    {
     "data": {
      "text/plain": [
       "Index(['yes', 'no', 'okay'], dtype='object')"
      ]
     },
     "execution_count": 10,
     "metadata": {},
     "output_type": "execute_result"
    }
   ],
   "source": [
    "# When we check the index now, we get the new index\n",
    "sales.index"
   ]
  },
  {
   "cell_type": "code",
   "execution_count": 15,
   "id": "6c627bd7-90fa-44c4-b018-3e86c922ec0d",
   "metadata": {},
   "outputs": [
    {
     "data": {
      "text/plain": [
       "10"
      ]
     },
     "execution_count": 15,
     "metadata": {},
     "output_type": "execute_result"
    }
   ],
   "source": [
    "# Accessing the values again\n",
    "sales['yes']"
   ]
  },
  {
   "cell_type": "markdown",
   "id": "69dc12be-44d3-4c2d-845a-b7aee15cccec",
   "metadata": {},
   "source": [
    "# Checking for conditions"
   ]
  },
  {
   "cell_type": "code",
   "execution_count": 18,
   "id": "766ace7e-a424-4930-aaff-292e93b5098c",
   "metadata": {},
   "outputs": [
    {
     "data": {
      "text/plain": [
       "yes     True\n",
       "no      True\n",
       "okay    True\n",
       "dtype: bool"
      ]
     },
     "execution_count": 18,
     "metadata": {},
     "output_type": "execute_result"
    }
   ],
   "source": [
    "# We can filter our data based on conditions we specify\n",
    "sales > 5"
   ]
  },
  {
   "cell_type": "code",
   "execution_count": 19,
   "id": "e206f582-dddc-4228-b66a-b3637dd3b742",
   "metadata": {},
   "outputs": [
    {
     "data": {
      "text/plain": [
       "no      20\n",
       "okay    30\n",
       "dtype: int64"
      ]
     },
     "execution_count": 19,
     "metadata": {},
     "output_type": "execute_result"
    }
   ],
   "source": [
    "# What happends when we use these booleans\n",
    "sales[[False, True, True]]"
   ]
  },
  {
   "cell_type": "code",
   "execution_count": 20,
   "id": "b620eabe-b675-4436-b6f5-4f88e0d57a8a",
   "metadata": {},
   "outputs": [
    {
     "data": {
      "text/plain": [
       "True"
      ]
     },
     "execution_count": 20,
     "metadata": {},
     "output_type": "execute_result"
    }
   ],
   "source": [
    "# Checking if something is present in the index\n",
    "'yes' in sales"
   ]
  },
  {
   "cell_type": "code",
   "execution_count": 21,
   "id": "81f55cc6-9c71-4021-b854-58c7b1600126",
   "metadata": {},
   "outputs": [
    {
     "data": {
      "text/plain": [
       "False"
      ]
     },
     "execution_count": 21,
     "metadata": {},
     "output_type": "execute_result"
    }
   ],
   "source": [
    "10 in sales"
   ]
  },
  {
   "cell_type": "markdown",
   "id": "9ee5b910-55a6-4c34-850d-7391de929cc3",
   "metadata": {},
   "source": [
    "# Working with dictionaries"
   ]
  },
  {
   "cell_type": "code",
   "execution_count": 22,
   "id": "5df44fd3-35e0-442f-977b-ae70479f17ab",
   "metadata": {},
   "outputs": [],
   "source": [
    "# Converting series to dict\n",
    "sales_dict = pd.Series(sales)"
   ]
  },
  {
   "cell_type": "code",
   "execution_count": 24,
   "id": "b62b4da1-f1d9-4af5-aeaa-930b8000b2f3",
   "metadata": {},
   "outputs": [],
   "source": [
    "# Converting dict to series\n",
    "sales = pd.Series(sales_dict)"
   ]
  },
  {
   "cell_type": "markdown",
   "id": "0ac2da38-1324-4288-9e5c-ae52dc400063",
   "metadata": {},
   "source": [
    "# DataFrames"
   ]
  },
  {
   "cell_type": "code",
   "execution_count": 30,
   "id": "c9c091ce-b842-43c5-a56c-1cdf4a4681cc",
   "metadata": {},
   "outputs": [
    {
     "data": {
      "text/html": [
       "<div>\n",
       "<style scoped>\n",
       "    .dataframe tbody tr th:only-of-type {\n",
       "        vertical-align: middle;\n",
       "    }\n",
       "\n",
       "    .dataframe tbody tr th {\n",
       "        vertical-align: top;\n",
       "    }\n",
       "\n",
       "    .dataframe thead th {\n",
       "        text-align: right;\n",
       "    }\n",
       "</style>\n",
       "<table border=\"1\" class=\"dataframe\">\n",
       "  <thead>\n",
       "    <tr style=\"text-align: right;\">\n",
       "      <th></th>\n",
       "      <th>'Name</th>\n",
       "      <th>Age</th>\n",
       "    </tr>\n",
       "  </thead>\n",
       "  <tbody>\n",
       "    <tr>\n",
       "      <th>0</th>\n",
       "      <td>adrian</td>\n",
       "      <td>20</td>\n",
       "    </tr>\n",
       "    <tr>\n",
       "      <th>1</th>\n",
       "      <td>sam</td>\n",
       "      <td>30</td>\n",
       "    </tr>\n",
       "    <tr>\n",
       "      <th>2</th>\n",
       "      <td>ally</td>\n",
       "      <td>40</td>\n",
       "    </tr>\n",
       "  </tbody>\n",
       "</table>\n",
       "</div>"
      ],
      "text/plain": [
       "    'Name  Age\n",
       "0  adrian   20\n",
       "1     sam   30\n",
       "2    ally   40"
      ]
     },
     "execution_count": 30,
     "metadata": {},
     "output_type": "execute_result"
    }
   ],
   "source": [
    "# Making a DF from a list\n",
    "list = [[\"adrian\", 20],[\"sam\",30],[\"ally\",40]]\n",
    "\n",
    "# When we create a DF we can specify the column names\n",
    "df = pd.DataFrame(list, columns=[\"'Name\", \"Age\"])\n",
    "df"
   ]
  },
  {
   "cell_type": "code",
   "execution_count": 33,
   "id": "294adb45-bd44-4bbd-9c4c-6117d4483e01",
   "metadata": {},
   "outputs": [
    {
     "data": {
      "text/html": [
       "<div>\n",
       "<style scoped>\n",
       "    .dataframe tbody tr th:only-of-type {\n",
       "        vertical-align: middle;\n",
       "    }\n",
       "\n",
       "    .dataframe tbody tr th {\n",
       "        vertical-align: top;\n",
       "    }\n",
       "\n",
       "    .dataframe thead th {\n",
       "        text-align: right;\n",
       "    }\n",
       "</style>\n",
       "<table border=\"1\" class=\"dataframe\">\n",
       "  <thead>\n",
       "    <tr style=\"text-align: right;\">\n",
       "      <th></th>\n",
       "      <th>Name</th>\n",
       "      <th>Sales</th>\n",
       "    </tr>\n",
       "  </thead>\n",
       "  <tbody>\n",
       "    <tr>\n",
       "      <th>0</th>\n",
       "      <td>Tom</td>\n",
       "      <td>250</td>\n",
       "    </tr>\n",
       "    <tr>\n",
       "      <th>1</th>\n",
       "      <td>Jane</td>\n",
       "      <td>300</td>\n",
       "    </tr>\n",
       "    <tr>\n",
       "      <th>2</th>\n",
       "      <td>Steve</td>\n",
       "      <td>350</td>\n",
       "    </tr>\n",
       "    <tr>\n",
       "      <th>3</th>\n",
       "      <td>Lucy</td>\n",
       "      <td>400</td>\n",
       "    </tr>\n",
       "  </tbody>\n",
       "</table>\n",
       "</div>"
      ],
      "text/plain": [
       "    Name  Sales\n",
       "0    Tom    250\n",
       "1   Jane    300\n",
       "2  Steve    350\n",
       "3   Lucy    400"
      ]
     },
     "execution_count": 33,
     "metadata": {},
     "output_type": "execute_result"
    }
   ],
   "source": [
    "# Creating a DF from a dict\n",
    "new_dict = {\"Name\":[\"Tom\", \"Jane\", \"Steve\", \"Lucy\"], \"Sales\": [250, 300, 350,400]}\n",
    "df_dict = pd.DataFrame(new_dict)\n",
    "df_dict"
   ]
  },
  {
   "cell_type": "code",
   "execution_count": 34,
   "id": "e7639936-0293-4938-a58b-dbd31fb5803b",
   "metadata": {},
   "outputs": [
    {
     "data": {
      "text/html": [
       "<div>\n",
       "<style scoped>\n",
       "    .dataframe tbody tr th:only-of-type {\n",
       "        vertical-align: middle;\n",
       "    }\n",
       "\n",
       "    .dataframe tbody tr th {\n",
       "        vertical-align: top;\n",
       "    }\n",
       "\n",
       "    .dataframe thead th {\n",
       "        text-align: right;\n",
       "    }\n",
       "</style>\n",
       "<table border=\"1\" class=\"dataframe\">\n",
       "  <thead>\n",
       "    <tr style=\"text-align: right;\">\n",
       "      <th></th>\n",
       "      <th>Name</th>\n",
       "      <th>Sales</th>\n",
       "    </tr>\n",
       "  </thead>\n",
       "  <tbody>\n",
       "    <tr>\n",
       "      <th>rank1</th>\n",
       "      <td>Tom</td>\n",
       "      <td>250</td>\n",
       "    </tr>\n",
       "    <tr>\n",
       "      <th>rank2</th>\n",
       "      <td>Jane</td>\n",
       "      <td>300</td>\n",
       "    </tr>\n",
       "    <tr>\n",
       "      <th>rank3</th>\n",
       "      <td>Steve</td>\n",
       "      <td>350</td>\n",
       "    </tr>\n",
       "    <tr>\n",
       "      <th>rank4</th>\n",
       "      <td>Lucy</td>\n",
       "      <td>400</td>\n",
       "    </tr>\n",
       "  </tbody>\n",
       "</table>\n",
       "</div>"
      ],
      "text/plain": [
       "        Name  Sales\n",
       "rank1    Tom    250\n",
       "rank2   Jane    300\n",
       "rank3  Steve    350\n",
       "rank4   Lucy    400"
      ]
     },
     "execution_count": 34,
     "metadata": {},
     "output_type": "execute_result"
    }
   ],
   "source": [
    "# You can assign a custom index\n",
    "df_dict_index = pd.DataFrame(new_dict, index=['rank1','rank2','rank3','rank4'])\n",
    "df_dict_index"
   ]
  },
  {
   "cell_type": "code",
   "execution_count": 36,
   "id": "94163561-4836-4128-9a39-3c715f8efd60",
   "metadata": {},
   "outputs": [
    {
     "data": {
      "text/html": [
       "<div>\n",
       "<style scoped>\n",
       "    .dataframe tbody tr th:only-of-type {\n",
       "        vertical-align: middle;\n",
       "    }\n",
       "\n",
       "    .dataframe tbody tr th {\n",
       "        vertical-align: top;\n",
       "    }\n",
       "\n",
       "    .dataframe thead th {\n",
       "        text-align: right;\n",
       "    }\n",
       "</style>\n",
       "<table border=\"1\" class=\"dataframe\">\n",
       "  <thead>\n",
       "    <tr style=\"text-align: right;\">\n",
       "      <th></th>\n",
       "      <th>Name</th>\n",
       "      <th>Sales</th>\n",
       "    </tr>\n",
       "  </thead>\n",
       "  <tbody>\n",
       "    <tr>\n",
       "      <th>0</th>\n",
       "      <td>Tom</td>\n",
       "      <td>250</td>\n",
       "    </tr>\n",
       "    <tr>\n",
       "      <th>1</th>\n",
       "      <td>Jane</td>\n",
       "      <td>300</td>\n",
       "    </tr>\n",
       "    <tr>\n",
       "      <th>2</th>\n",
       "      <td>Steve</td>\n",
       "      <td>350</td>\n",
       "    </tr>\n",
       "    <tr>\n",
       "      <th>3</th>\n",
       "      <td>Lucy</td>\n",
       "      <td>400</td>\n",
       "    </tr>\n",
       "  </tbody>\n",
       "</table>\n",
       "</div>"
      ],
      "text/plain": [
       "    Name  Sales\n",
       "0    Tom    250\n",
       "1   Jane    300\n",
       "2  Steve    350\n",
       "3   Lucy    400"
      ]
     },
     "execution_count": 36,
     "metadata": {},
     "output_type": "execute_result"
    }
   ],
   "source": [
    "# Creating a DF from a list of dictionaries\n",
    "# Useful when working with json\n",
    "dict_list = [{'Name':'Tom','Sales':250},{'Name':'Jane','Sales':300},{'Name':'Steve','Sales':350},{'Name':'Lucy','Sales':400}]\n",
    "\n",
    "df_dict_list = pd.DataFrame(dict_list)\n",
    "df_dict_list"
   ]
  },
  {
   "cell_type": "code",
   "execution_count": 40,
   "id": "6a5e6fbe-8b45-4bd0-ba5e-bf7a4c767166",
   "metadata": {},
   "outputs": [],
   "source": [
    "# Creating a DF from a dict of Series\n",
    "east = pd.Series([1000,1200,3400],index=['Q1','Q2','Q3'])\n",
    "west = pd.Series([1100,1300,2400,3500],index=['Q1','Q2','Q3','Q4'])"
   ]
  },
  {
   "cell_type": "code",
   "execution_count": 41,
   "id": "cdd176c9-71e5-490d-9b75-e09b518814c6",
   "metadata": {},
   "outputs": [
    {
     "data": {
      "text/plain": [
       "Q1    1000\n",
       "Q2    1200\n",
       "Q3    3400\n",
       "dtype: int64"
      ]
     },
     "execution_count": 41,
     "metadata": {},
     "output_type": "execute_result"
    }
   ],
   "source": [
    "east"
   ]
  },
  {
   "cell_type": "code",
   "execution_count": 42,
   "id": "887a3f1c-e55d-43d9-8868-c58198db7194",
   "metadata": {},
   "outputs": [
    {
     "data": {
      "text/plain": [
       "Q1    1100\n",
       "Q2    1300\n",
       "Q3    2400\n",
       "Q4    3500\n",
       "dtype: int64"
      ]
     },
     "execution_count": 42,
     "metadata": {},
     "output_type": "execute_result"
    }
   ],
   "source": [
    "west"
   ]
  },
  {
   "cell_type": "code",
   "execution_count": 62,
   "id": "6230de1c-85c6-4c8f-960f-b25b91ccc3c3",
   "metadata": {},
   "outputs": [
    {
     "data": {
      "text/html": [
       "<div>\n",
       "<style scoped>\n",
       "    .dataframe tbody tr th:only-of-type {\n",
       "        vertical-align: middle;\n",
       "    }\n",
       "\n",
       "    .dataframe tbody tr th {\n",
       "        vertical-align: top;\n",
       "    }\n",
       "\n",
       "    .dataframe thead th {\n",
       "        text-align: right;\n",
       "    }\n",
       "</style>\n",
       "<table border=\"1\" class=\"dataframe\">\n",
       "  <thead>\n",
       "    <tr style=\"text-align: right;\">\n",
       "      <th></th>\n",
       "      <th>East</th>\n",
       "      <th>West</th>\n",
       "    </tr>\n",
       "  </thead>\n",
       "  <tbody>\n",
       "    <tr>\n",
       "      <th>Q1</th>\n",
       "      <td>1000.0</td>\n",
       "      <td>1100</td>\n",
       "    </tr>\n",
       "    <tr>\n",
       "      <th>Q2</th>\n",
       "      <td>1200.0</td>\n",
       "      <td>1300</td>\n",
       "    </tr>\n",
       "    <tr>\n",
       "      <th>Q3</th>\n",
       "      <td>3400.0</td>\n",
       "      <td>2400</td>\n",
       "    </tr>\n",
       "    <tr>\n",
       "      <th>Q4</th>\n",
       "      <td>NaN</td>\n",
       "      <td>3500</td>\n",
       "    </tr>\n",
       "  </tbody>\n",
       "</table>\n",
       "</div>"
      ],
      "text/plain": [
       "      East  West\n",
       "Q1  1000.0  1100\n",
       "Q2  1200.0  1300\n",
       "Q3  3400.0  2400\n",
       "Q4     NaN  3500"
      ]
     },
     "execution_count": 62,
     "metadata": {},
     "output_type": "execute_result"
    }
   ],
   "source": [
    "# If we want to put a Series into a DF we combine them\n",
    "df_region = pd.DataFrame({'East':east, 'West':west})\n",
    "df_region"
   ]
  },
  {
   "cell_type": "code",
   "execution_count": 63,
   "id": "1109cb92-16c3-455f-9d0e-f9e4d41a7db6",
   "metadata": {},
   "outputs": [
    {
     "data": {
      "text/html": [
       "<div>\n",
       "<style scoped>\n",
       "    .dataframe tbody tr th:only-of-type {\n",
       "        vertical-align: middle;\n",
       "    }\n",
       "\n",
       "    .dataframe tbody tr th {\n",
       "        vertical-align: top;\n",
       "    }\n",
       "\n",
       "    .dataframe thead th {\n",
       "        text-align: right;\n",
       "    }\n",
       "</style>\n",
       "<table border=\"1\" class=\"dataframe\">\n",
       "  <thead>\n",
       "    <tr style=\"text-align: right;\">\n",
       "      <th></th>\n",
       "      <th>East</th>\n",
       "      <th>West</th>\n",
       "      <th>North</th>\n",
       "      <th>South</th>\n",
       "    </tr>\n",
       "  </thead>\n",
       "  <tbody>\n",
       "    <tr>\n",
       "      <th>Q1</th>\n",
       "      <td>1000.0</td>\n",
       "      <td>1100</td>\n",
       "      <td>2000</td>\n",
       "      <td>1500</td>\n",
       "    </tr>\n",
       "    <tr>\n",
       "      <th>Q2</th>\n",
       "      <td>1200.0</td>\n",
       "      <td>1300</td>\n",
       "      <td>3000</td>\n",
       "      <td>2000</td>\n",
       "    </tr>\n",
       "    <tr>\n",
       "      <th>Q3</th>\n",
       "      <td>3400.0</td>\n",
       "      <td>2400</td>\n",
       "      <td>2500</td>\n",
       "      <td>1500</td>\n",
       "    </tr>\n",
       "    <tr>\n",
       "      <th>Q4</th>\n",
       "      <td>NaN</td>\n",
       "      <td>3500</td>\n",
       "      <td>4000</td>\n",
       "      <td>4000</td>\n",
       "    </tr>\n",
       "  </tbody>\n",
       "</table>\n",
       "</div>"
      ],
      "text/plain": [
       "      East  West  North  South\n",
       "Q1  1000.0  1100   2000   1500\n",
       "Q2  1200.0  1300   3000   2000\n",
       "Q3  3400.0  2400   2500   1500\n",
       "Q4     NaN  3500   4000   4000"
      ]
     },
     "execution_count": 63,
     "metadata": {},
     "output_type": "execute_result"
    }
   ],
   "source": [
    "# We can add more series\n",
    "df_region['North'] = [2000,3000,2500,4000]\n",
    "df_region['South'] = [1500,2000,1500,4000]\n",
    "df_region"
   ]
  },
  {
   "cell_type": "markdown",
   "id": "124673ae-c908-48fc-a9fc-adc405b943c3",
   "metadata": {},
   "source": [
    "# Shifting and changin the index"
   ]
  },
  {
   "cell_type": "code",
   "execution_count": 64,
   "id": "4331fe5b-95e0-4aeb-888c-68a6293eb268",
   "metadata": {},
   "outputs": [
    {
     "data": {
      "text/html": [
       "<div>\n",
       "<style scoped>\n",
       "    .dataframe tbody tr th:only-of-type {\n",
       "        vertical-align: middle;\n",
       "    }\n",
       "\n",
       "    .dataframe tbody tr th {\n",
       "        vertical-align: top;\n",
       "    }\n",
       "\n",
       "    .dataframe thead th {\n",
       "        text-align: right;\n",
       "    }\n",
       "</style>\n",
       "<table border=\"1\" class=\"dataframe\">\n",
       "  <thead>\n",
       "    <tr style=\"text-align: right;\">\n",
       "      <th></th>\n",
       "      <th>East</th>\n",
       "      <th>West</th>\n",
       "      <th>North</th>\n",
       "      <th>South</th>\n",
       "    </tr>\n",
       "  </thead>\n",
       "  <tbody>\n",
       "    <tr>\n",
       "      <th>2017</th>\n",
       "      <td>NaN</td>\n",
       "      <td>NaN</td>\n",
       "      <td>NaN</td>\n",
       "      <td>NaN</td>\n",
       "    </tr>\n",
       "    <tr>\n",
       "      <th>2018</th>\n",
       "      <td>NaN</td>\n",
       "      <td>NaN</td>\n",
       "      <td>NaN</td>\n",
       "      <td>NaN</td>\n",
       "    </tr>\n",
       "    <tr>\n",
       "      <th>2019</th>\n",
       "      <td>NaN</td>\n",
       "      <td>NaN</td>\n",
       "      <td>NaN</td>\n",
       "      <td>NaN</td>\n",
       "    </tr>\n",
       "    <tr>\n",
       "      <th>2020</th>\n",
       "      <td>NaN</td>\n",
       "      <td>NaN</td>\n",
       "      <td>NaN</td>\n",
       "      <td>NaN</td>\n",
       "    </tr>\n",
       "    <tr>\n",
       "      <th>2021</th>\n",
       "      <td>NaN</td>\n",
       "      <td>NaN</td>\n",
       "      <td>NaN</td>\n",
       "      <td>NaN</td>\n",
       "    </tr>\n",
       "  </tbody>\n",
       "</table>\n",
       "</div>"
      ],
      "text/plain": [
       "      East  West  North  South\n",
       "2017   NaN   NaN    NaN    NaN\n",
       "2018   NaN   NaN    NaN    NaN\n",
       "2019   NaN   NaN    NaN    NaN\n",
       "2020   NaN   NaN    NaN    NaN\n",
       "2021   NaN   NaN    NaN    NaN"
      ]
     },
     "execution_count": 64,
     "metadata": {},
     "output_type": "execute_result"
    }
   ],
   "source": [
    "# Sometimes we make a mistake and need to edit the index\n",
    "# We can add a new column and set the column as the index\n",
    "new_df = df_region.reindex(['2017','2018','2019','2020','2021'])\n",
    "new_df"
   ]
  },
  {
   "cell_type": "code",
   "execution_count": 77,
   "id": "2fe971c7-9096-4074-9580-4b09c058fe9c",
   "metadata": {},
   "outputs": [
    {
     "ename": "KeyError",
     "evalue": "\"None of ['Years'] are in the columns\"",
     "output_type": "error",
     "traceback": [
      "\u001b[31m---------------------------------------------------------------------------\u001b[39m",
      "\u001b[31mKeyError\u001b[39m                                  Traceback (most recent call last)",
      "\u001b[32m~\\AppData\\Local\\Temp\\ipykernel_3076\\1520612687.py\u001b[39m in \u001b[36m?\u001b[39m\u001b[34m()\u001b[39m\n\u001b[32m      1\u001b[39m \u001b[38;5;66;03m# Set the column as the index\u001b[39;00m\n\u001b[32m----> \u001b[39m\u001b[32m2\u001b[39m df_region = df_region.set_index([\u001b[33m'Years'\u001b[39m])\n",
      "\u001b[32m~\\AppData\\Local\\Packages\\PythonSoftwareFoundation.Python.3.11_qbz5n2kfra8p0\\LocalCache\\local-packages\\Python311\\site-packages\\pandas\\core\\frame.py\u001b[39m in \u001b[36m?\u001b[39m\u001b[34m(self, keys, drop, append, inplace, verify_integrity)\u001b[39m\n\u001b[32m   6118\u001b[39m                     \u001b[38;5;28;01mif\u001b[39;00m \u001b[38;5;28;01mnot\u001b[39;00m found:\n\u001b[32m   6119\u001b[39m                         missing.append(col)\n\u001b[32m   6120\u001b[39m \n\u001b[32m   6121\u001b[39m         \u001b[38;5;28;01mif\u001b[39;00m missing:\n\u001b[32m-> \u001b[39m\u001b[32m6122\u001b[39m             \u001b[38;5;28;01mraise\u001b[39;00m KeyError(\u001b[33mf\"None of {missing} are in the columns\"\u001b[39m)\n\u001b[32m   6123\u001b[39m \n\u001b[32m   6124\u001b[39m         \u001b[38;5;28;01mif\u001b[39;00m inplace:\n\u001b[32m   6125\u001b[39m             frame = self\n",
      "\u001b[31mKeyError\u001b[39m: \"None of ['Years'] are in the columns\""
     ]
    }
   ],
   "source": [
    "# Set the column as the index\n",
    "df_region = df_region.set_index(['Years'])"
   ]
  },
  {
   "cell_type": "code",
   "execution_count": 66,
   "id": "308907d9-d233-4162-a335-37e54021f8a0",
   "metadata": {},
   "outputs": [
    {
     "data": {
      "text/html": [
       "<div>\n",
       "<style scoped>\n",
       "    .dataframe tbody tr th:only-of-type {\n",
       "        vertical-align: middle;\n",
       "    }\n",
       "\n",
       "    .dataframe tbody tr th {\n",
       "        vertical-align: top;\n",
       "    }\n",
       "\n",
       "    .dataframe thead th {\n",
       "        text-align: right;\n",
       "    }\n",
       "</style>\n",
       "<table border=\"1\" class=\"dataframe\">\n",
       "  <thead>\n",
       "    <tr style=\"text-align: right;\">\n",
       "      <th></th>\n",
       "      <th>East</th>\n",
       "      <th>West</th>\n",
       "      <th>North</th>\n",
       "      <th>South</th>\n",
       "    </tr>\n",
       "  </thead>\n",
       "  <tbody>\n",
       "    <tr>\n",
       "      <th>2017</th>\n",
       "      <td>NaN</td>\n",
       "      <td>NaN</td>\n",
       "      <td>NaN</td>\n",
       "      <td>NaN</td>\n",
       "    </tr>\n",
       "    <tr>\n",
       "      <th>2018</th>\n",
       "      <td>NaN</td>\n",
       "      <td>NaN</td>\n",
       "      <td>NaN</td>\n",
       "      <td>NaN</td>\n",
       "    </tr>\n",
       "    <tr>\n",
       "      <th>2019</th>\n",
       "      <td>NaN</td>\n",
       "      <td>NaN</td>\n",
       "      <td>NaN</td>\n",
       "      <td>NaN</td>\n",
       "    </tr>\n",
       "    <tr>\n",
       "      <th>2020</th>\n",
       "      <td>NaN</td>\n",
       "      <td>NaN</td>\n",
       "      <td>NaN</td>\n",
       "      <td>NaN</td>\n",
       "    </tr>\n",
       "    <tr>\n",
       "      <th>2021</th>\n",
       "      <td>NaN</td>\n",
       "      <td>NaN</td>\n",
       "      <td>NaN</td>\n",
       "      <td>NaN</td>\n",
       "    </tr>\n",
       "  </tbody>\n",
       "</table>\n",
       "</div>"
      ],
      "text/plain": [
       "      East  West  North  South\n",
       "2017   NaN   NaN    NaN    NaN\n",
       "2018   NaN   NaN    NaN    NaN\n",
       "2019   NaN   NaN    NaN    NaN\n",
       "2020   NaN   NaN    NaN    NaN\n",
       "2021   NaN   NaN    NaN    NaN"
      ]
     },
     "execution_count": 66,
     "metadata": {},
     "output_type": "execute_result"
    }
   ],
   "source": [
    "# We can also change the index values if we want\n",
    "new_df = df_region.reindex(['2017','2018','2019','2020','2021'])\n",
    "new_df"
   ]
  },
  {
   "cell_type": "code",
   "execution_count": 67,
   "id": "d6a6d030-9056-4657-8ff6-b99c1152e80a",
   "metadata": {},
   "outputs": [
    {
     "data": {
      "text/html": [
       "<div>\n",
       "<style scoped>\n",
       "    .dataframe tbody tr th:only-of-type {\n",
       "        vertical-align: middle;\n",
       "    }\n",
       "\n",
       "    .dataframe tbody tr th {\n",
       "        vertical-align: top;\n",
       "    }\n",
       "\n",
       "    .dataframe thead th {\n",
       "        text-align: right;\n",
       "    }\n",
       "</style>\n",
       "<table border=\"1\" class=\"dataframe\">\n",
       "  <thead>\n",
       "    <tr style=\"text-align: right;\">\n",
       "      <th></th>\n",
       "      <th>North</th>\n",
       "      <th>East</th>\n",
       "      <th>South</th>\n",
       "      <th>New</th>\n",
       "    </tr>\n",
       "  </thead>\n",
       "  <tbody>\n",
       "    <tr>\n",
       "      <th>2017</th>\n",
       "      <td>NaN</td>\n",
       "      <td>NaN</td>\n",
       "      <td>NaN</td>\n",
       "      <td>NaN</td>\n",
       "    </tr>\n",
       "    <tr>\n",
       "      <th>2018</th>\n",
       "      <td>NaN</td>\n",
       "      <td>NaN</td>\n",
       "      <td>NaN</td>\n",
       "      <td>NaN</td>\n",
       "    </tr>\n",
       "    <tr>\n",
       "      <th>2019</th>\n",
       "      <td>NaN</td>\n",
       "      <td>NaN</td>\n",
       "      <td>NaN</td>\n",
       "      <td>NaN</td>\n",
       "    </tr>\n",
       "    <tr>\n",
       "      <th>2020</th>\n",
       "      <td>NaN</td>\n",
       "      <td>NaN</td>\n",
       "      <td>NaN</td>\n",
       "      <td>NaN</td>\n",
       "    </tr>\n",
       "    <tr>\n",
       "      <th>2021</th>\n",
       "      <td>NaN</td>\n",
       "      <td>NaN</td>\n",
       "      <td>NaN</td>\n",
       "      <td>NaN</td>\n",
       "    </tr>\n",
       "  </tbody>\n",
       "</table>\n",
       "</div>"
      ],
      "text/plain": [
       "      North  East  South  New\n",
       "2017    NaN   NaN    NaN  NaN\n",
       "2018    NaN   NaN    NaN  NaN\n",
       "2019    NaN   NaN    NaN  NaN\n",
       "2020    NaN   NaN    NaN  NaN\n",
       "2021    NaN   NaN    NaN  NaN"
      ]
     },
     "execution_count": 67,
     "metadata": {},
     "output_type": "execute_result"
    }
   ],
   "source": [
    "# We can use re-index to shift/change columns\n",
    "# Including adding new columns\n",
    "re_indexed = new_df.reindex(columns=['North','East','South','New'])\n",
    "re_indexed"
   ]
  },
  {
   "cell_type": "markdown",
   "id": "2855293d-888c-49c3-89f7-146c05b486d6",
   "metadata": {},
   "source": [
    "# Missing Data"
   ]
  },
  {
   "cell_type": "code",
   "execution_count": 68,
   "id": "438203a5-45a2-463e-b9d6-21ee9a95c896",
   "metadata": {},
   "outputs": [
    {
     "data": {
      "text/html": [
       "<div>\n",
       "<style scoped>\n",
       "    .dataframe tbody tr th:only-of-type {\n",
       "        vertical-align: middle;\n",
       "    }\n",
       "\n",
       "    .dataframe tbody tr th {\n",
       "        vertical-align: top;\n",
       "    }\n",
       "\n",
       "    .dataframe thead th {\n",
       "        text-align: right;\n",
       "    }\n",
       "</style>\n",
       "<table border=\"1\" class=\"dataframe\">\n",
       "  <thead>\n",
       "    <tr style=\"text-align: right;\">\n",
       "      <th></th>\n",
       "      <th>North</th>\n",
       "      <th>East</th>\n",
       "      <th>South</th>\n",
       "      <th>New</th>\n",
       "    </tr>\n",
       "  </thead>\n",
       "  <tbody>\n",
       "    <tr>\n",
       "      <th>2017</th>\n",
       "      <td>NaN</td>\n",
       "      <td>NaN</td>\n",
       "      <td>NaN</td>\n",
       "      <td>NaN</td>\n",
       "    </tr>\n",
       "    <tr>\n",
       "      <th>2018</th>\n",
       "      <td>NaN</td>\n",
       "      <td>NaN</td>\n",
       "      <td>NaN</td>\n",
       "      <td>NaN</td>\n",
       "    </tr>\n",
       "    <tr>\n",
       "      <th>2019</th>\n",
       "      <td>NaN</td>\n",
       "      <td>NaN</td>\n",
       "      <td>NaN</td>\n",
       "      <td>NaN</td>\n",
       "    </tr>\n",
       "    <tr>\n",
       "      <th>2020</th>\n",
       "      <td>NaN</td>\n",
       "      <td>NaN</td>\n",
       "      <td>NaN</td>\n",
       "      <td>NaN</td>\n",
       "    </tr>\n",
       "    <tr>\n",
       "      <th>2021</th>\n",
       "      <td>NaN</td>\n",
       "      <td>NaN</td>\n",
       "      <td>NaN</td>\n",
       "      <td>NaN</td>\n",
       "    </tr>\n",
       "  </tbody>\n",
       "</table>\n",
       "</div>"
      ],
      "text/plain": [
       "      North  East  South  New\n",
       "2017    NaN   NaN    NaN  NaN\n",
       "2018    NaN   NaN    NaN  NaN\n",
       "2019    NaN   NaN    NaN  NaN\n",
       "2020    NaN   NaN    NaN  NaN\n",
       "2021    NaN   NaN    NaN  NaN"
      ]
     },
     "execution_count": 68,
     "metadata": {},
     "output_type": "execute_result"
    }
   ],
   "source": [
    "# Filling missing values\n",
    "# We may want to change all NaN values to 0\n",
    "re_indexed.fillna(1)\n",
    "re_indexed"
   ]
  },
  {
   "cell_type": "code",
   "execution_count": 74,
   "id": "0bd2a5b0-4132-4662-b12e-60e3d2b0a1be",
   "metadata": {},
   "outputs": [
    {
     "data": {
      "text/html": [
       "<div>\n",
       "<style scoped>\n",
       "    .dataframe tbody tr th:only-of-type {\n",
       "        vertical-align: middle;\n",
       "    }\n",
       "\n",
       "    .dataframe tbody tr th {\n",
       "        vertical-align: top;\n",
       "    }\n",
       "\n",
       "    .dataframe thead th {\n",
       "        text-align: right;\n",
       "    }\n",
       "</style>\n",
       "<table border=\"1\" class=\"dataframe\">\n",
       "  <thead>\n",
       "    <tr style=\"text-align: right;\">\n",
       "      <th></th>\n",
       "      <th>North</th>\n",
       "      <th>East</th>\n",
       "      <th>South</th>\n",
       "      <th>New</th>\n",
       "    </tr>\n",
       "  </thead>\n",
       "  <tbody>\n",
       "    <tr>\n",
       "      <th>2017</th>\n",
       "      <td>NaN</td>\n",
       "      <td>NaN</td>\n",
       "      <td>NaN</td>\n",
       "      <td>NaN</td>\n",
       "    </tr>\n",
       "    <tr>\n",
       "      <th>2018</th>\n",
       "      <td>NaN</td>\n",
       "      <td>NaN</td>\n",
       "      <td>NaN</td>\n",
       "      <td>NaN</td>\n",
       "    </tr>\n",
       "    <tr>\n",
       "      <th>2019</th>\n",
       "      <td>NaN</td>\n",
       "      <td>NaN</td>\n",
       "      <td>NaN</td>\n",
       "      <td>NaN</td>\n",
       "    </tr>\n",
       "    <tr>\n",
       "      <th>2020</th>\n",
       "      <td>NaN</td>\n",
       "      <td>NaN</td>\n",
       "      <td>NaN</td>\n",
       "      <td>NaN</td>\n",
       "    </tr>\n",
       "    <tr>\n",
       "      <th>2021</th>\n",
       "      <td>NaN</td>\n",
       "      <td>NaN</td>\n",
       "      <td>NaN</td>\n",
       "      <td>NaN</td>\n",
       "    </tr>\n",
       "  </tbody>\n",
       "</table>\n",
       "</div>"
      ],
      "text/plain": [
       "      North  East  South  New\n",
       "2017    NaN   NaN    NaN  NaN\n",
       "2018    NaN   NaN    NaN  NaN\n",
       "2019    NaN   NaN    NaN  NaN\n",
       "2020    NaN   NaN    NaN  NaN\n",
       "2021    NaN   NaN    NaN  NaN"
      ]
     },
     "execution_count": 74,
     "metadata": {},
     "output_type": "execute_result"
    }
   ],
   "source": [
    "# Fill methods\n",
    "# Backfill, BFfill, pad, ffill\n",
    "re_indexed.ffill()"
   ]
  },
  {
   "cell_type": "code",
   "execution_count": 75,
   "id": "41239133-9db4-46e2-8a2b-bbccdb485c6b",
   "metadata": {},
   "outputs": [
    {
     "data": {
      "text/html": [
       "<div>\n",
       "<style scoped>\n",
       "    .dataframe tbody tr th:only-of-type {\n",
       "        vertical-align: middle;\n",
       "    }\n",
       "\n",
       "    .dataframe tbody tr th {\n",
       "        vertical-align: top;\n",
       "    }\n",
       "\n",
       "    .dataframe thead th {\n",
       "        text-align: right;\n",
       "    }\n",
       "</style>\n",
       "<table border=\"1\" class=\"dataframe\">\n",
       "  <thead>\n",
       "    <tr style=\"text-align: right;\">\n",
       "      <th></th>\n",
       "      <th>North</th>\n",
       "      <th>East</th>\n",
       "      <th>South</th>\n",
       "      <th>New</th>\n",
       "    </tr>\n",
       "  </thead>\n",
       "  <tbody>\n",
       "    <tr>\n",
       "      <th>2017</th>\n",
       "      <td>NaN</td>\n",
       "      <td>NaN</td>\n",
       "      <td>NaN</td>\n",
       "      <td>NaN</td>\n",
       "    </tr>\n",
       "    <tr>\n",
       "      <th>2018</th>\n",
       "      <td>NaN</td>\n",
       "      <td>NaN</td>\n",
       "      <td>NaN</td>\n",
       "      <td>NaN</td>\n",
       "    </tr>\n",
       "    <tr>\n",
       "      <th>2019</th>\n",
       "      <td>NaN</td>\n",
       "      <td>NaN</td>\n",
       "      <td>NaN</td>\n",
       "      <td>NaN</td>\n",
       "    </tr>\n",
       "    <tr>\n",
       "      <th>2020</th>\n",
       "      <td>NaN</td>\n",
       "      <td>NaN</td>\n",
       "      <td>NaN</td>\n",
       "      <td>NaN</td>\n",
       "    </tr>\n",
       "    <tr>\n",
       "      <th>2021</th>\n",
       "      <td>NaN</td>\n",
       "      <td>NaN</td>\n",
       "      <td>NaN</td>\n",
       "      <td>NaN</td>\n",
       "    </tr>\n",
       "  </tbody>\n",
       "</table>\n",
       "</div>"
      ],
      "text/plain": [
       "      North  East  South  New\n",
       "2017    NaN   NaN    NaN  NaN\n",
       "2018    NaN   NaN    NaN  NaN\n",
       "2019    NaN   NaN    NaN  NaN\n",
       "2020    NaN   NaN    NaN  NaN\n",
       "2021    NaN   NaN    NaN  NaN"
      ]
     },
     "execution_count": 75,
     "metadata": {},
     "output_type": "execute_result"
    }
   ],
   "source": [
    "# We can also use interpolation\n",
    "re_indexed.interpolate()"
   ]
  },
  {
   "cell_type": "markdown",
   "id": "30e8f7f8-27b4-4e9e-a8ec-6ed9145ebc99",
   "metadata": {},
   "source": [
    "# Dropping items in DFs"
   ]
  },
  {
   "cell_type": "code",
   "execution_count": 76,
   "id": "5bb4314b-7f61-47fd-a5ce-514a122b431b",
   "metadata": {},
   "outputs": [
    {
     "data": {
      "text/html": [
       "<div>\n",
       "<style scoped>\n",
       "    .dataframe tbody tr th:only-of-type {\n",
       "        vertical-align: middle;\n",
       "    }\n",
       "\n",
       "    .dataframe tbody tr th {\n",
       "        vertical-align: top;\n",
       "    }\n",
       "\n",
       "    .dataframe thead th {\n",
       "        text-align: right;\n",
       "    }\n",
       "</style>\n",
       "<table border=\"1\" class=\"dataframe\">\n",
       "  <thead>\n",
       "    <tr style=\"text-align: right;\">\n",
       "      <th></th>\n",
       "      <th>North</th>\n",
       "      <th>East</th>\n",
       "      <th>South</th>\n",
       "      <th>New</th>\n",
       "    </tr>\n",
       "  </thead>\n",
       "  <tbody>\n",
       "  </tbody>\n",
       "</table>\n",
       "</div>"
      ],
      "text/plain": [
       "Empty DataFrame\n",
       "Columns: [North, East, South, New]\n",
       "Index: []"
      ]
     },
     "execution_count": 76,
     "metadata": {},
     "output_type": "execute_result"
    }
   ],
   "source": [
    "# Instead of filling NaN values we can drop\n",
    "# dropna() drops all NaN values\n",
    "re_indexed.dropna()"
   ]
  },
  {
   "cell_type": "code",
   "execution_count": 79,
   "id": "e6b3cc08-b892-44e1-8bb5-33f140b2ff13",
   "metadata": {},
   "outputs": [
    {
     "data": {
      "text/html": [
       "<div>\n",
       "<style scoped>\n",
       "    .dataframe tbody tr th:only-of-type {\n",
       "        vertical-align: middle;\n",
       "    }\n",
       "\n",
       "    .dataframe tbody tr th {\n",
       "        vertical-align: top;\n",
       "    }\n",
       "\n",
       "    .dataframe thead th {\n",
       "        text-align: right;\n",
       "    }\n",
       "</style>\n",
       "<table border=\"1\" class=\"dataframe\">\n",
       "  <thead>\n",
       "    <tr style=\"text-align: right;\">\n",
       "      <th></th>\n",
       "    </tr>\n",
       "  </thead>\n",
       "  <tbody>\n",
       "    <tr>\n",
       "      <th>2017</th>\n",
       "    </tr>\n",
       "    <tr>\n",
       "      <th>2018</th>\n",
       "    </tr>\n",
       "    <tr>\n",
       "      <th>2019</th>\n",
       "    </tr>\n",
       "    <tr>\n",
       "      <th>2020</th>\n",
       "    </tr>\n",
       "    <tr>\n",
       "      <th>2021</th>\n",
       "    </tr>\n",
       "  </tbody>\n",
       "</table>\n",
       "</div>"
      ],
      "text/plain": [
       "Empty DataFrame\n",
       "Columns: []\n",
       "Index: [2017, 2018, 2019, 2020, 2021]"
      ]
     },
     "execution_count": 79,
     "metadata": {},
     "output_type": "execute_result"
    }
   ],
   "source": [
    "# We can specify columns and methods \n",
    "\n",
    "# axis 1 = columns, axis 0 = rows\n",
    "re_indexed.dropna(axis=1,how=\"all\")"
   ]
  },
  {
   "cell_type": "code",
   "execution_count": 81,
   "id": "055c4060-7954-4361-be8a-0329c6dd7ec8",
   "metadata": {},
   "outputs": [
    {
     "data": {
      "text/html": [
       "<div>\n",
       "<style scoped>\n",
       "    .dataframe tbody tr th:only-of-type {\n",
       "        vertical-align: middle;\n",
       "    }\n",
       "\n",
       "    .dataframe tbody tr th {\n",
       "        vertical-align: top;\n",
       "    }\n",
       "\n",
       "    .dataframe thead th {\n",
       "        text-align: right;\n",
       "    }\n",
       "</style>\n",
       "<table border=\"1\" class=\"dataframe\">\n",
       "  <thead>\n",
       "    <tr style=\"text-align: right;\">\n",
       "      <th></th>\n",
       "      <th>North</th>\n",
       "      <th>East</th>\n",
       "      <th>South</th>\n",
       "      <th>New</th>\n",
       "    </tr>\n",
       "  </thead>\n",
       "  <tbody>\n",
       "  </tbody>\n",
       "</table>\n",
       "</div>"
      ],
      "text/plain": [
       "Empty DataFrame\n",
       "Columns: [North, East, South, New]\n",
       "Index: []"
      ]
     },
     "execution_count": 81,
     "metadata": {},
     "output_type": "execute_result"
    }
   ],
   "source": [
    "# We can set a threshold, numer is the amount of NaN values allowed to be present in each row\n",
    "re_indexed.dropna(thresh=1)"
   ]
  },
  {
   "cell_type": "code",
   "execution_count": 82,
   "id": "7ac02d72-2a45-4987-9565-7cc83831e24e",
   "metadata": {},
   "outputs": [
    {
     "data": {
      "text/html": [
       "<div>\n",
       "<style scoped>\n",
       "    .dataframe tbody tr th:only-of-type {\n",
       "        vertical-align: middle;\n",
       "    }\n",
       "\n",
       "    .dataframe tbody tr th {\n",
       "        vertical-align: top;\n",
       "    }\n",
       "\n",
       "    .dataframe thead th {\n",
       "        text-align: right;\n",
       "    }\n",
       "</style>\n",
       "<table border=\"1\" class=\"dataframe\">\n",
       "  <thead>\n",
       "    <tr style=\"text-align: right;\">\n",
       "      <th></th>\n",
       "      <th>North</th>\n",
       "      <th>East</th>\n",
       "      <th>South</th>\n",
       "      <th>New</th>\n",
       "    </tr>\n",
       "  </thead>\n",
       "  <tbody>\n",
       "    <tr>\n",
       "      <th>2017</th>\n",
       "      <td>NaN</td>\n",
       "      <td>NaN</td>\n",
       "      <td>NaN</td>\n",
       "      <td>NaN</td>\n",
       "    </tr>\n",
       "    <tr>\n",
       "      <th>2018</th>\n",
       "      <td>NaN</td>\n",
       "      <td>NaN</td>\n",
       "      <td>NaN</td>\n",
       "      <td>NaN</td>\n",
       "    </tr>\n",
       "    <tr>\n",
       "      <th>2020</th>\n",
       "      <td>NaN</td>\n",
       "      <td>NaN</td>\n",
       "      <td>NaN</td>\n",
       "      <td>NaN</td>\n",
       "    </tr>\n",
       "    <tr>\n",
       "      <th>2021</th>\n",
       "      <td>NaN</td>\n",
       "      <td>NaN</td>\n",
       "      <td>NaN</td>\n",
       "      <td>NaN</td>\n",
       "    </tr>\n",
       "  </tbody>\n",
       "</table>\n",
       "</div>"
      ],
      "text/plain": [
       "      North  East  South  New\n",
       "2017    NaN   NaN    NaN  NaN\n",
       "2018    NaN   NaN    NaN  NaN\n",
       "2020    NaN   NaN    NaN  NaN\n",
       "2021    NaN   NaN    NaN  NaN"
      ]
     },
     "execution_count": 82,
     "metadata": {},
     "output_type": "execute_result"
    }
   ],
   "source": [
    "# Dropping based on index\n",
    "re_indexed.drop(\"2019\")"
   ]
  },
  {
   "cell_type": "code",
   "execution_count": 86,
   "id": "484f40a2-937b-4916-b52e-0bc73f6caa25",
   "metadata": {},
   "outputs": [
    {
     "data": {
      "text/plain": [
       "0    False\n",
       "1    False\n",
       "2     True\n",
       "dtype: bool"
      ]
     },
     "execution_count": 86,
     "metadata": {},
     "output_type": "execute_result"
    }
   ],
   "source": [
    "# We can easily check duplicates and remove duplicated rows\n",
    "df_dup = DataFrame([['A',1],['B',2],['A',1]])\n",
    "df_dup.duplicated()"
   ]
  },
  {
   "cell_type": "code",
   "execution_count": 89,
   "id": "97b5dd12-e9e1-4fc3-97f3-0ac4672eecf1",
   "metadata": {},
   "outputs": [
    {
     "data": {
      "text/html": [
       "<div>\n",
       "<style scoped>\n",
       "    .dataframe tbody tr th:only-of-type {\n",
       "        vertical-align: middle;\n",
       "    }\n",
       "\n",
       "    .dataframe tbody tr th {\n",
       "        vertical-align: top;\n",
       "    }\n",
       "\n",
       "    .dataframe thead th {\n",
       "        text-align: right;\n",
       "    }\n",
       "</style>\n",
       "<table border=\"1\" class=\"dataframe\">\n",
       "  <thead>\n",
       "    <tr style=\"text-align: right;\">\n",
       "      <th></th>\n",
       "      <th>0</th>\n",
       "      <th>1</th>\n",
       "    </tr>\n",
       "  </thead>\n",
       "  <tbody>\n",
       "    <tr>\n",
       "      <th>0</th>\n",
       "      <td>A</td>\n",
       "      <td>1</td>\n",
       "    </tr>\n",
       "    <tr>\n",
       "      <th>1</th>\n",
       "      <td>B</td>\n",
       "      <td>2</td>\n",
       "    </tr>\n",
       "  </tbody>\n",
       "</table>\n",
       "</div>"
      ],
      "text/plain": [
       "   0  1\n",
       "0  A  1\n",
       "1  B  2"
      ]
     },
     "execution_count": 89,
     "metadata": {},
     "output_type": "execute_result"
    }
   ],
   "source": [
    "# Drop dupicate rows\n",
    "df_dup.drop_duplicates(inplace=True)\n",
    "df_dup"
   ]
  },
  {
   "cell_type": "markdown",
   "id": "f74d2b10-3e92-4277-8316-fa8af544f4bb",
   "metadata": {},
   "source": [
    "# Selecting entries"
   ]
  },
  {
   "cell_type": "code",
   "execution_count": 90,
   "id": "228905f0-1ab3-45ce-b3e8-45ce93dbcfae",
   "metadata": {},
   "outputs": [
    {
     "data": {
      "text/html": [
       "<div>\n",
       "<style scoped>\n",
       "    .dataframe tbody tr th:only-of-type {\n",
       "        vertical-align: middle;\n",
       "    }\n",
       "\n",
       "    .dataframe tbody tr th {\n",
       "        vertical-align: top;\n",
       "    }\n",
       "\n",
       "    .dataframe thead th {\n",
       "        text-align: right;\n",
       "    }\n",
       "</style>\n",
       "<table border=\"1\" class=\"dataframe\">\n",
       "  <thead>\n",
       "    <tr style=\"text-align: right;\">\n",
       "      <th></th>\n",
       "      <th>East</th>\n",
       "      <th>West</th>\n",
       "      <th>North</th>\n",
       "      <th>South</th>\n",
       "    </tr>\n",
       "  </thead>\n",
       "  <tbody>\n",
       "    <tr>\n",
       "      <th>2017</th>\n",
       "      <td>NaN</td>\n",
       "      <td>NaN</td>\n",
       "      <td>NaN</td>\n",
       "      <td>NaN</td>\n",
       "    </tr>\n",
       "    <tr>\n",
       "      <th>2018</th>\n",
       "      <td>NaN</td>\n",
       "      <td>NaN</td>\n",
       "      <td>NaN</td>\n",
       "      <td>NaN</td>\n",
       "    </tr>\n",
       "    <tr>\n",
       "      <th>2019</th>\n",
       "      <td>NaN</td>\n",
       "      <td>NaN</td>\n",
       "      <td>NaN</td>\n",
       "      <td>NaN</td>\n",
       "    </tr>\n",
       "    <tr>\n",
       "      <th>2020</th>\n",
       "      <td>NaN</td>\n",
       "      <td>NaN</td>\n",
       "      <td>NaN</td>\n",
       "      <td>NaN</td>\n",
       "    </tr>\n",
       "    <tr>\n",
       "      <th>2021</th>\n",
       "      <td>NaN</td>\n",
       "      <td>NaN</td>\n",
       "      <td>NaN</td>\n",
       "      <td>NaN</td>\n",
       "    </tr>\n",
       "  </tbody>\n",
       "</table>\n",
       "</div>"
      ],
      "text/plain": [
       "      East  West  North  South\n",
       "2017   NaN   NaN    NaN    NaN\n",
       "2018   NaN   NaN    NaN    NaN\n",
       "2019   NaN   NaN    NaN    NaN\n",
       "2020   NaN   NaN    NaN    NaN\n",
       "2021   NaN   NaN    NaN    NaN"
      ]
     },
     "execution_count": 90,
     "metadata": {},
     "output_type": "execute_result"
    }
   ],
   "source": [
    "new_df"
   ]
  },
  {
   "cell_type": "code",
   "execution_count": 91,
   "id": "4fd45198-72ef-4e13-b63b-cbeae2ed1569",
   "metadata": {},
   "outputs": [
    {
     "data": {
      "text/plain": [
       "2017   NaN\n",
       "2018   NaN\n",
       "2019   NaN\n",
       "2020   NaN\n",
       "2021   NaN\n",
       "Name: North, dtype: float64"
      ]
     },
     "execution_count": 91,
     "metadata": {},
     "output_type": "execute_result"
    }
   ],
   "source": [
    "# Select entire columns\n",
    "new_df[\"North\"]"
   ]
  },
  {
   "cell_type": "code",
   "execution_count": 92,
   "id": "0c8c8cbf-6a56-4ab1-9f6c-8518952959af",
   "metadata": {},
   "outputs": [
    {
     "data": {
      "text/plain": [
       "East    NaN\n",
       "West    NaN\n",
       "North   NaN\n",
       "South   NaN\n",
       "Name: 2019, dtype: float64"
      ]
     },
     "execution_count": 92,
     "metadata": {},
     "output_type": "execute_result"
    }
   ],
   "source": [
    "# Iloc\n",
    "# Find record based on intereger indexing\n",
    "new_df.iloc[2]"
   ]
  },
  {
   "cell_type": "code",
   "execution_count": 94,
   "id": "770d32a6-1f97-4f1c-958b-645a912e67b1",
   "metadata": {},
   "outputs": [
    {
     "data": {
      "text/plain": [
       "nan"
      ]
     },
     "execution_count": 94,
     "metadata": {},
     "output_type": "execute_result"
    }
   ],
   "source": [
    "# Find specific values (row, index)\n",
    "new_df.iloc[0,1]"
   ]
  },
  {
   "cell_type": "code",
   "execution_count": 95,
   "id": "1fffdd41-61c9-488a-925b-880f0e88d58e",
   "metadata": {},
   "outputs": [
    {
     "data": {
      "text/html": [
       "<div>\n",
       "<style scoped>\n",
       "    .dataframe tbody tr th:only-of-type {\n",
       "        vertical-align: middle;\n",
       "    }\n",
       "\n",
       "    .dataframe tbody tr th {\n",
       "        vertical-align: top;\n",
       "    }\n",
       "\n",
       "    .dataframe thead th {\n",
       "        text-align: right;\n",
       "    }\n",
       "</style>\n",
       "<table border=\"1\" class=\"dataframe\">\n",
       "  <thead>\n",
       "    <tr style=\"text-align: right;\">\n",
       "      <th></th>\n",
       "      <th>East</th>\n",
       "      <th>West</th>\n",
       "      <th>North</th>\n",
       "      <th>South</th>\n",
       "    </tr>\n",
       "  </thead>\n",
       "  <tbody>\n",
       "    <tr>\n",
       "      <th>2018</th>\n",
       "      <td>NaN</td>\n",
       "      <td>NaN</td>\n",
       "      <td>NaN</td>\n",
       "      <td>NaN</td>\n",
       "    </tr>\n",
       "    <tr>\n",
       "      <th>2019</th>\n",
       "      <td>NaN</td>\n",
       "      <td>NaN</td>\n",
       "      <td>NaN</td>\n",
       "      <td>NaN</td>\n",
       "    </tr>\n",
       "  </tbody>\n",
       "</table>\n",
       "</div>"
      ],
      "text/plain": [
       "      East  West  North  South\n",
       "2018   NaN   NaN    NaN    NaN\n",
       "2019   NaN   NaN    NaN    NaN"
      ]
     },
     "execution_count": 95,
     "metadata": {},
     "output_type": "execute_result"
    }
   ],
   "source": [
    "# Iloc also allows slicing (rows : \n",
    "new_df.iloc[1:3]"
   ]
  },
  {
   "cell_type": "code",
   "execution_count": 96,
   "id": "9f9dda9e-7e06-4ab4-8f2c-2f6c0b2e3908",
   "metadata": {},
   "outputs": [
    {
     "data": {
      "text/plain": [
       "East    NaN\n",
       "West    NaN\n",
       "North   NaN\n",
       "South   NaN\n",
       "Name: 2019, dtype: float64"
      ]
     },
     "execution_count": 96,
     "metadata": {},
     "output_type": "execute_result"
    }
   ],
   "source": [
    "# Loc allows us to access a group of rows and columns based on labels or a boolean array\n",
    "new_df.loc['2019']"
   ]
  },
  {
   "cell_type": "code",
   "execution_count": 98,
   "id": "8a1ba3bf-3d6e-4483-9fca-2cf86f2118d1",
   "metadata": {},
   "outputs": [
    {
     "data": {
      "text/html": [
       "<div>\n",
       "<style scoped>\n",
       "    .dataframe tbody tr th:only-of-type {\n",
       "        vertical-align: middle;\n",
       "    }\n",
       "\n",
       "    .dataframe tbody tr th {\n",
       "        vertical-align: top;\n",
       "    }\n",
       "\n",
       "    .dataframe thead th {\n",
       "        text-align: right;\n",
       "    }\n",
       "</style>\n",
       "<table border=\"1\" class=\"dataframe\">\n",
       "  <thead>\n",
       "    <tr style=\"text-align: right;\">\n",
       "      <th></th>\n",
       "      <th>East</th>\n",
       "      <th>West</th>\n",
       "      <th>North</th>\n",
       "      <th>South</th>\n",
       "    </tr>\n",
       "  </thead>\n",
       "  <tbody>\n",
       "    <tr>\n",
       "      <th>2019</th>\n",
       "      <td>NaN</td>\n",
       "      <td>NaN</td>\n",
       "      <td>NaN</td>\n",
       "      <td>NaN</td>\n",
       "    </tr>\n",
       "    <tr>\n",
       "      <th>2018</th>\n",
       "      <td>NaN</td>\n",
       "      <td>NaN</td>\n",
       "      <td>NaN</td>\n",
       "      <td>NaN</td>\n",
       "    </tr>\n",
       "  </tbody>\n",
       "</table>\n",
       "</div>"
      ],
      "text/plain": [
       "      East  West  North  South\n",
       "2019   NaN   NaN    NaN    NaN\n",
       "2018   NaN   NaN    NaN    NaN"
      ]
     },
     "execution_count": 98,
     "metadata": {},
     "output_type": "execute_result"
    }
   ],
   "source": [
    "# Select mupltile rows\n",
    "new_df.loc[['2019','2018']]"
   ]
  },
  {
   "cell_type": "code",
   "execution_count": 99,
   "id": "5639aa5b-53a2-42f6-ad73-ee79acc5c6de",
   "metadata": {},
   "outputs": [
    {
     "data": {
      "text/html": [
       "<div>\n",
       "<style scoped>\n",
       "    .dataframe tbody tr th:only-of-type {\n",
       "        vertical-align: middle;\n",
       "    }\n",
       "\n",
       "    .dataframe tbody tr th {\n",
       "        vertical-align: top;\n",
       "    }\n",
       "\n",
       "    .dataframe thead th {\n",
       "        text-align: right;\n",
       "    }\n",
       "</style>\n",
       "<table border=\"1\" class=\"dataframe\">\n",
       "  <thead>\n",
       "    <tr style=\"text-align: right;\">\n",
       "      <th></th>\n",
       "      <th>East</th>\n",
       "      <th>West</th>\n",
       "      <th>North</th>\n",
       "      <th>South</th>\n",
       "    </tr>\n",
       "  </thead>\n",
       "  <tbody>\n",
       "    <tr>\n",
       "      <th>2019</th>\n",
       "      <td>NaN</td>\n",
       "      <td>NaN</td>\n",
       "      <td>NaN</td>\n",
       "      <td>NaN</td>\n",
       "    </tr>\n",
       "    <tr>\n",
       "      <th>2020</th>\n",
       "      <td>NaN</td>\n",
       "      <td>NaN</td>\n",
       "      <td>NaN</td>\n",
       "      <td>NaN</td>\n",
       "    </tr>\n",
       "    <tr>\n",
       "      <th>2021</th>\n",
       "      <td>NaN</td>\n",
       "      <td>NaN</td>\n",
       "      <td>NaN</td>\n",
       "      <td>NaN</td>\n",
       "    </tr>\n",
       "  </tbody>\n",
       "</table>\n",
       "</div>"
      ],
      "text/plain": [
       "      East  West  North  South\n",
       "2019   NaN   NaN    NaN    NaN\n",
       "2020   NaN   NaN    NaN    NaN\n",
       "2021   NaN   NaN    NaN    NaN"
      ]
     },
     "execution_count": 99,
     "metadata": {},
     "output_type": "execute_result"
    }
   ],
   "source": [
    "# Boolean arrays with loc\n",
    "# For each row, we specify a boolean values which denotes if we want the row retunred or not\n",
    "new_df.loc[[False,False,True,True,True]]"
   ]
  },
  {
   "cell_type": "code",
   "execution_count": 100,
   "id": "38dd3b6d-e0d0-4b4a-ab62-7fd25bc5167f",
   "metadata": {},
   "outputs": [
    {
     "data": {
      "text/html": [
       "<div>\n",
       "<style scoped>\n",
       "    .dataframe tbody tr th:only-of-type {\n",
       "        vertical-align: middle;\n",
       "    }\n",
       "\n",
       "    .dataframe tbody tr th {\n",
       "        vertical-align: top;\n",
       "    }\n",
       "\n",
       "    .dataframe thead th {\n",
       "        text-align: right;\n",
       "    }\n",
       "</style>\n",
       "<table border=\"1\" class=\"dataframe\">\n",
       "  <thead>\n",
       "    <tr style=\"text-align: right;\">\n",
       "      <th></th>\n",
       "      <th>East</th>\n",
       "      <th>West</th>\n",
       "      <th>North</th>\n",
       "      <th>South</th>\n",
       "    </tr>\n",
       "  </thead>\n",
       "  <tbody>\n",
       "  </tbody>\n",
       "</table>\n",
       "</div>"
      ],
      "text/plain": [
       "Empty DataFrame\n",
       "Columns: [East, West, North, South]\n",
       "Index: []"
      ]
     },
     "execution_count": 100,
     "metadata": {},
     "output_type": "execute_result"
    }
   ],
   "source": [
    "# Use filtering to get specific info\n",
    "new_df[new_df['West'] > 500]"
   ]
  },
  {
   "cell_type": "markdown",
   "id": "0ddcd1d4-5f2a-4719-9283-43b13fc54718",
   "metadata": {},
   "source": [
    "# Data Alignment"
   ]
  },
  {
   "cell_type": "code",
   "execution_count": 101,
   "id": "b97431f2-c014-4343-8aaf-4f3b8d35b50c",
   "metadata": {},
   "outputs": [
    {
     "data": {
      "text/plain": [
       "2017   NaN\n",
       "2018   NaN\n",
       "2019   NaN\n",
       "2020   NaN\n",
       "2021   NaN\n",
       "dtype: float64"
      ]
     },
     "execution_count": 101,
     "metadata": {},
     "output_type": "execute_result"
    }
   ],
   "source": [
    "# Adding to columns in one DF\n",
    "new_df['East'] + new_df ['North']"
   ]
  },
  {
   "cell_type": "code",
   "execution_count": 102,
   "id": "82929c0d-84f5-4a86-9e52-4c11840fe41d",
   "metadata": {},
   "outputs": [
    {
     "data": {
      "text/plain": [
       "2017   NaN\n",
       "2018   NaN\n",
       "2019   NaN\n",
       "2020   NaN\n",
       "2021   NaN\n",
       "dtype: float64"
      ]
     },
     "execution_count": 102,
     "metadata": {},
     "output_type": "execute_result"
    }
   ],
   "source": [
    "# We can use the .add method to specifiyy a fill value for NaN\n",
    "new_df['East'].add(new_df['North'],fill_value=0)"
   ]
  },
  {
   "cell_type": "markdown",
   "id": "898cb7f1-c12e-4996-bdcd-fe2b18293b94",
   "metadata": {},
   "source": [
    "# Sorting and Ranking"
   ]
  },
  {
   "cell_type": "code",
   "execution_count": 105,
   "id": "2aa8328e-55c5-4138-b05f-cfb5065c375f",
   "metadata": {},
   "outputs": [
    {
     "data": {
      "text/html": [
       "<div>\n",
       "<style scoped>\n",
       "    .dataframe tbody tr th:only-of-type {\n",
       "        vertical-align: middle;\n",
       "    }\n",
       "\n",
       "    .dataframe tbody tr th {\n",
       "        vertical-align: top;\n",
       "    }\n",
       "\n",
       "    .dataframe thead th {\n",
       "        text-align: right;\n",
       "    }\n",
       "</style>\n",
       "<table border=\"1\" class=\"dataframe\">\n",
       "  <thead>\n",
       "    <tr style=\"text-align: right;\">\n",
       "      <th></th>\n",
       "      <th>East</th>\n",
       "      <th>West</th>\n",
       "      <th>North</th>\n",
       "      <th>South</th>\n",
       "    </tr>\n",
       "  </thead>\n",
       "  <tbody>\n",
       "    <tr>\n",
       "      <th>2021</th>\n",
       "      <td>NaN</td>\n",
       "      <td>NaN</td>\n",
       "      <td>NaN</td>\n",
       "      <td>NaN</td>\n",
       "    </tr>\n",
       "    <tr>\n",
       "      <th>2020</th>\n",
       "      <td>NaN</td>\n",
       "      <td>NaN</td>\n",
       "      <td>NaN</td>\n",
       "      <td>NaN</td>\n",
       "    </tr>\n",
       "    <tr>\n",
       "      <th>2019</th>\n",
       "      <td>NaN</td>\n",
       "      <td>NaN</td>\n",
       "      <td>NaN</td>\n",
       "      <td>NaN</td>\n",
       "    </tr>\n",
       "    <tr>\n",
       "      <th>2018</th>\n",
       "      <td>NaN</td>\n",
       "      <td>NaN</td>\n",
       "      <td>NaN</td>\n",
       "      <td>NaN</td>\n",
       "    </tr>\n",
       "    <tr>\n",
       "      <th>2017</th>\n",
       "      <td>NaN</td>\n",
       "      <td>NaN</td>\n",
       "      <td>NaN</td>\n",
       "      <td>NaN</td>\n",
       "    </tr>\n",
       "  </tbody>\n",
       "</table>\n",
       "</div>"
      ],
      "text/plain": [
       "      East  West  North  South\n",
       "2021   NaN   NaN    NaN    NaN\n",
       "2020   NaN   NaN    NaN    NaN\n",
       "2019   NaN   NaN    NaN    NaN\n",
       "2018   NaN   NaN    NaN    NaN\n",
       "2017   NaN   NaN    NaN    NaN"
      ]
     },
     "execution_count": 105,
     "metadata": {},
     "output_type": "execute_result"
    }
   ],
   "source": [
    "#Sort by index\n",
    "# Ascending = 0 means False (so 1 = True)\n",
    "new_df.sort_index(ascending=0)"
   ]
  },
  {
   "cell_type": "code",
   "execution_count": 106,
   "id": "15c1c1cb-9bda-475e-9461-5965834d7d73",
   "metadata": {},
   "outputs": [
    {
     "data": {
      "text/html": [
       "<div>\n",
       "<style scoped>\n",
       "    .dataframe tbody tr th:only-of-type {\n",
       "        vertical-align: middle;\n",
       "    }\n",
       "\n",
       "    .dataframe tbody tr th {\n",
       "        vertical-align: top;\n",
       "    }\n",
       "\n",
       "    .dataframe thead th {\n",
       "        text-align: right;\n",
       "    }\n",
       "</style>\n",
       "<table border=\"1\" class=\"dataframe\">\n",
       "  <thead>\n",
       "    <tr style=\"text-align: right;\">\n",
       "      <th></th>\n",
       "      <th>East</th>\n",
       "      <th>West</th>\n",
       "      <th>North</th>\n",
       "      <th>South</th>\n",
       "    </tr>\n",
       "  </thead>\n",
       "  <tbody>\n",
       "    <tr>\n",
       "      <th>2017</th>\n",
       "      <td>NaN</td>\n",
       "      <td>NaN</td>\n",
       "      <td>NaN</td>\n",
       "      <td>NaN</td>\n",
       "    </tr>\n",
       "    <tr>\n",
       "      <th>2018</th>\n",
       "      <td>NaN</td>\n",
       "      <td>NaN</td>\n",
       "      <td>NaN</td>\n",
       "      <td>NaN</td>\n",
       "    </tr>\n",
       "    <tr>\n",
       "      <th>2019</th>\n",
       "      <td>NaN</td>\n",
       "      <td>NaN</td>\n",
       "      <td>NaN</td>\n",
       "      <td>NaN</td>\n",
       "    </tr>\n",
       "    <tr>\n",
       "      <th>2020</th>\n",
       "      <td>NaN</td>\n",
       "      <td>NaN</td>\n",
       "      <td>NaN</td>\n",
       "      <td>NaN</td>\n",
       "    </tr>\n",
       "    <tr>\n",
       "      <th>2021</th>\n",
       "      <td>NaN</td>\n",
       "      <td>NaN</td>\n",
       "      <td>NaN</td>\n",
       "      <td>NaN</td>\n",
       "    </tr>\n",
       "  </tbody>\n",
       "</table>\n",
       "</div>"
      ],
      "text/plain": [
       "      East  West  North  South\n",
       "2017   NaN   NaN    NaN    NaN\n",
       "2018   NaN   NaN    NaN    NaN\n",
       "2019   NaN   NaN    NaN    NaN\n",
       "2020   NaN   NaN    NaN    NaN\n",
       "2021   NaN   NaN    NaN    NaN"
      ]
     },
     "execution_count": 106,
     "metadata": {},
     "output_type": "execute_result"
    }
   ],
   "source": [
    "# Sorting by column\n",
    "# Defeualt is ascending\n",
    "new_df.sort_values(by=['North'])"
   ]
  },
  {
   "cell_type": "code",
   "execution_count": 107,
   "id": "e22ded9a-c58a-4ee6-85d2-8def1ffc6e9c",
   "metadata": {},
   "outputs": [
    {
     "data": {
      "text/plain": [
       "2017   NaN\n",
       "2018   NaN\n",
       "2019   NaN\n",
       "2020   NaN\n",
       "2021   NaN\n",
       "Name: North, dtype: float64"
      ]
     },
     "execution_count": 107,
     "metadata": {},
     "output_type": "execute_result"
    }
   ],
   "source": [
    "# Ranking columns\n",
    "# Specify the coloumn and apply the ranki function to it\n",
    "new_df['North'].rank(ascending=0)"
   ]
  },
  {
   "cell_type": "code",
   "execution_count": 110,
   "id": "6167c4e1-7241-4d3a-ab65-3d9952277218",
   "metadata": {},
   "outputs": [],
   "source": [
    "# We can save ranking as a new coloumn\n",
    "new_df['rank_north'] = new_df['North'].rank(ascending=0)"
   ]
  },
  {
   "cell_type": "markdown",
   "id": "7b043cdd-9e59-4c07-a771-2b2d6b6b0a7b",
   "metadata": {},
   "source": [
    "# Summary Statistics"
   ]
  },
  {
   "cell_type": "code",
   "execution_count": 111,
   "id": "27bd074c-d9d8-40a5-a1bf-875e911b32f2",
   "metadata": {},
   "outputs": [
    {
     "data": {
      "text/html": [
       "<div>\n",
       "<style scoped>\n",
       "    .dataframe tbody tr th:only-of-type {\n",
       "        vertical-align: middle;\n",
       "    }\n",
       "\n",
       "    .dataframe tbody tr th {\n",
       "        vertical-align: top;\n",
       "    }\n",
       "\n",
       "    .dataframe thead th {\n",
       "        text-align: right;\n",
       "    }\n",
       "</style>\n",
       "<table border=\"1\" class=\"dataframe\">\n",
       "  <thead>\n",
       "    <tr style=\"text-align: right;\">\n",
       "      <th></th>\n",
       "      <th>East</th>\n",
       "      <th>West</th>\n",
       "      <th>North</th>\n",
       "      <th>South</th>\n",
       "      <th>rank_north</th>\n",
       "    </tr>\n",
       "  </thead>\n",
       "  <tbody>\n",
       "    <tr>\n",
       "      <th>count</th>\n",
       "      <td>0.0</td>\n",
       "      <td>0.0</td>\n",
       "      <td>0.0</td>\n",
       "      <td>0.0</td>\n",
       "      <td>0.0</td>\n",
       "    </tr>\n",
       "    <tr>\n",
       "      <th>mean</th>\n",
       "      <td>NaN</td>\n",
       "      <td>NaN</td>\n",
       "      <td>NaN</td>\n",
       "      <td>NaN</td>\n",
       "      <td>NaN</td>\n",
       "    </tr>\n",
       "    <tr>\n",
       "      <th>std</th>\n",
       "      <td>NaN</td>\n",
       "      <td>NaN</td>\n",
       "      <td>NaN</td>\n",
       "      <td>NaN</td>\n",
       "      <td>NaN</td>\n",
       "    </tr>\n",
       "    <tr>\n",
       "      <th>min</th>\n",
       "      <td>NaN</td>\n",
       "      <td>NaN</td>\n",
       "      <td>NaN</td>\n",
       "      <td>NaN</td>\n",
       "      <td>NaN</td>\n",
       "    </tr>\n",
       "    <tr>\n",
       "      <th>25%</th>\n",
       "      <td>NaN</td>\n",
       "      <td>NaN</td>\n",
       "      <td>NaN</td>\n",
       "      <td>NaN</td>\n",
       "      <td>NaN</td>\n",
       "    </tr>\n",
       "    <tr>\n",
       "      <th>50%</th>\n",
       "      <td>NaN</td>\n",
       "      <td>NaN</td>\n",
       "      <td>NaN</td>\n",
       "      <td>NaN</td>\n",
       "      <td>NaN</td>\n",
       "    </tr>\n",
       "    <tr>\n",
       "      <th>75%</th>\n",
       "      <td>NaN</td>\n",
       "      <td>NaN</td>\n",
       "      <td>NaN</td>\n",
       "      <td>NaN</td>\n",
       "      <td>NaN</td>\n",
       "    </tr>\n",
       "    <tr>\n",
       "      <th>max</th>\n",
       "      <td>NaN</td>\n",
       "      <td>NaN</td>\n",
       "      <td>NaN</td>\n",
       "      <td>NaN</td>\n",
       "      <td>NaN</td>\n",
       "    </tr>\n",
       "  </tbody>\n",
       "</table>\n",
       "</div>"
      ],
      "text/plain": [
       "       East  West  North  South  rank_north\n",
       "count   0.0   0.0    0.0    0.0         0.0\n",
       "mean    NaN   NaN    NaN    NaN         NaN\n",
       "std     NaN   NaN    NaN    NaN         NaN\n",
       "min     NaN   NaN    NaN    NaN         NaN\n",
       "25%     NaN   NaN    NaN    NaN         NaN\n",
       "50%     NaN   NaN    NaN    NaN         NaN\n",
       "75%     NaN   NaN    NaN    NaN         NaN\n",
       "max     NaN   NaN    NaN    NaN         NaN"
      ]
     },
     "execution_count": 111,
     "metadata": {},
     "output_type": "execute_result"
    }
   ],
   "source": [
    "# Describe - gives general summary statistics for the entire df\n",
    "new_df.describe()"
   ]
  },
  {
   "cell_type": "code",
   "execution_count": 112,
   "id": "4935492f-ae87-4d9a-9c52-389e1eca79a8",
   "metadata": {},
   "outputs": [
    {
     "data": {
      "text/plain": [
       "East          0.0\n",
       "West          0.0\n",
       "North         0.0\n",
       "South         0.0\n",
       "rank_north    0.0\n",
       "dtype: float64"
      ]
     },
     "execution_count": 112,
     "metadata": {},
     "output_type": "execute_result"
    }
   ],
   "source": [
    "# Sum all columns\n",
    "new_df.sum()"
   ]
  },
  {
   "cell_type": "code",
   "execution_count": 113,
   "id": "6124cee2-4649-42c1-9041-9b7074c3b685",
   "metadata": {},
   "outputs": [
    {
     "data": {
      "text/html": [
       "<div>\n",
       "<style scoped>\n",
       "    .dataframe tbody tr th:only-of-type {\n",
       "        vertical-align: middle;\n",
       "    }\n",
       "\n",
       "    .dataframe tbody tr th {\n",
       "        vertical-align: top;\n",
       "    }\n",
       "\n",
       "    .dataframe thead th {\n",
       "        text-align: right;\n",
       "    }\n",
       "</style>\n",
       "<table border=\"1\" class=\"dataframe\">\n",
       "  <thead>\n",
       "    <tr style=\"text-align: right;\">\n",
       "      <th></th>\n",
       "      <th>East</th>\n",
       "      <th>West</th>\n",
       "      <th>North</th>\n",
       "      <th>South</th>\n",
       "      <th>rank_north</th>\n",
       "    </tr>\n",
       "  </thead>\n",
       "  <tbody>\n",
       "    <tr>\n",
       "      <th>2017</th>\n",
       "      <td>NaN</td>\n",
       "      <td>NaN</td>\n",
       "      <td>NaN</td>\n",
       "      <td>NaN</td>\n",
       "      <td>NaN</td>\n",
       "    </tr>\n",
       "    <tr>\n",
       "      <th>2018</th>\n",
       "      <td>NaN</td>\n",
       "      <td>NaN</td>\n",
       "      <td>NaN</td>\n",
       "      <td>NaN</td>\n",
       "      <td>NaN</td>\n",
       "    </tr>\n",
       "    <tr>\n",
       "      <th>2019</th>\n",
       "      <td>NaN</td>\n",
       "      <td>NaN</td>\n",
       "      <td>NaN</td>\n",
       "      <td>NaN</td>\n",
       "      <td>NaN</td>\n",
       "    </tr>\n",
       "    <tr>\n",
       "      <th>2020</th>\n",
       "      <td>NaN</td>\n",
       "      <td>NaN</td>\n",
       "      <td>NaN</td>\n",
       "      <td>NaN</td>\n",
       "      <td>NaN</td>\n",
       "    </tr>\n",
       "    <tr>\n",
       "      <th>2021</th>\n",
       "      <td>NaN</td>\n",
       "      <td>NaN</td>\n",
       "      <td>NaN</td>\n",
       "      <td>NaN</td>\n",
       "      <td>NaN</td>\n",
       "    </tr>\n",
       "  </tbody>\n",
       "</table>\n",
       "</div>"
      ],
      "text/plain": [
       "      East  West  North  South  rank_north\n",
       "2017   NaN   NaN    NaN    NaN         NaN\n",
       "2018   NaN   NaN    NaN    NaN         NaN\n",
       "2019   NaN   NaN    NaN    NaN         NaN\n",
       "2020   NaN   NaN    NaN    NaN         NaN\n",
       "2021   NaN   NaN    NaN    NaN         NaN"
      ]
     },
     "execution_count": 113,
     "metadata": {},
     "output_type": "execute_result"
    }
   ],
   "source": [
    "# Cumulative sum\n",
    "new_df.cumsum()"
   ]
  },
  {
   "cell_type": "code",
   "execution_count": 114,
   "id": "b62f0c1c-af32-43c0-9437-205d71be4842",
   "metadata": {},
   "outputs": [
    {
     "data": {
      "text/plain": [
       "East         NaN\n",
       "West         NaN\n",
       "North        NaN\n",
       "South        NaN\n",
       "rank_north   NaN\n",
       "dtype: float64"
      ]
     },
     "execution_count": 114,
     "metadata": {},
     "output_type": "execute_result"
    }
   ],
   "source": [
    "# Min values in each column\n",
    "new_df.min()"
   ]
  },
  {
   "cell_type": "code",
   "execution_count": 115,
   "id": "430ec27c-fae9-4e72-a463-dc2df0a3e228",
   "metadata": {},
   "outputs": [
    {
     "data": {
      "text/plain": [
       "East         NaN\n",
       "West         NaN\n",
       "North        NaN\n",
       "South        NaN\n",
       "rank_north   NaN\n",
       "dtype: float64"
      ]
     },
     "execution_count": 115,
     "metadata": {},
     "output_type": "execute_result"
    }
   ],
   "source": [
    "# Max values in each column\n",
    "new_df.max()"
   ]
  },
  {
   "cell_type": "markdown",
   "id": "da049206-fd34-4d11-8045-02464f3ee4bd",
   "metadata": {},
   "source": [
    "# Index Hierarchy"
   ]
  },
  {
   "cell_type": "code",
   "execution_count": 117,
   "id": "b8f3a1a7-5c22-4085-90c3-5b743e841477",
   "metadata": {},
   "outputs": [
    {
     "data": {
      "text/html": [
       "<div>\n",
       "<style scoped>\n",
       "    .dataframe tbody tr th:only-of-type {\n",
       "        vertical-align: middle;\n",
       "    }\n",
       "\n",
       "    .dataframe tbody tr th {\n",
       "        vertical-align: top;\n",
       "    }\n",
       "\n",
       "    .dataframe thead tr th {\n",
       "        text-align: left;\n",
       "    }\n",
       "</style>\n",
       "<table border=\"1\" class=\"dataframe\">\n",
       "  <thead>\n",
       "    <tr>\n",
       "      <th></th>\n",
       "      <th></th>\n",
       "      <th colspan=\"2\" halign=\"left\">NY</th>\n",
       "      <th colspan=\"2\" halign=\"left\">LA</th>\n",
       "    </tr>\n",
       "    <tr>\n",
       "      <th></th>\n",
       "      <th></th>\n",
       "      <th>Cold</th>\n",
       "      <th>Hot</th>\n",
       "      <th>Cold</th>\n",
       "      <th>Hot</th>\n",
       "    </tr>\n",
       "  </thead>\n",
       "  <tbody>\n",
       "    <tr>\n",
       "      <th rowspan=\"2\" valign=\"top\">2018</th>\n",
       "      <th>Jan</th>\n",
       "      <td>0</td>\n",
       "      <td>1</td>\n",
       "      <td>2</td>\n",
       "      <td>3</td>\n",
       "    </tr>\n",
       "    <tr>\n",
       "      <th>Feb</th>\n",
       "      <td>4</td>\n",
       "      <td>5</td>\n",
       "      <td>6</td>\n",
       "      <td>7</td>\n",
       "    </tr>\n",
       "    <tr>\n",
       "      <th rowspan=\"2\" valign=\"top\">2019</th>\n",
       "      <th>Jan</th>\n",
       "      <td>8</td>\n",
       "      <td>9</td>\n",
       "      <td>10</td>\n",
       "      <td>11</td>\n",
       "    </tr>\n",
       "    <tr>\n",
       "      <th>Feb</th>\n",
       "      <td>12</td>\n",
       "      <td>13</td>\n",
       "      <td>14</td>\n",
       "      <td>15</td>\n",
       "    </tr>\n",
       "  </tbody>\n",
       "</table>\n",
       "</div>"
      ],
      "text/plain": [
       "           NY       LA    \n",
       "         Cold Hot Cold Hot\n",
       "2018 Jan    0   1    2   3\n",
       "     Feb    4   5    6   7\n",
       "2019 Jan    8   9   10  11\n",
       "     Feb   12  13   14  15"
      ]
     },
     "execution_count": 117,
     "metadata": {},
     "output_type": "execute_result"
    }
   ],
   "source": [
    "# Creating a DataFrame with a hierarchical index\n",
    "# We are using numpy arange to create a range of numbers, and re-shaping it so that the numbers will fit on a 4x4 grid\n",
    "df_temp = DataFrame(np.arange(16).reshape(4,4), index = [['2018','2018','2019','2019'],['Jan','Feb','Jan','Feb']],columns = [['NY','NY','LA','LA'],['Cold','Hot','Cold','Hot']])\n",
    "df_temp"
   ]
  },
  {
   "cell_type": "code",
   "execution_count": 118,
   "id": "d0085fea-ab74-4d57-8124-8da39080b84c",
   "metadata": {},
   "outputs": [
    {
     "data": {
      "text/html": [
       "<div>\n",
       "<style scoped>\n",
       "    .dataframe tbody tr th:only-of-type {\n",
       "        vertical-align: middle;\n",
       "    }\n",
       "\n",
       "    .dataframe tbody tr th {\n",
       "        vertical-align: top;\n",
       "    }\n",
       "\n",
       "    .dataframe thead tr th {\n",
       "        text-align: left;\n",
       "    }\n",
       "\n",
       "    .dataframe thead tr:last-of-type th {\n",
       "        text-align: right;\n",
       "    }\n",
       "</style>\n",
       "<table border=\"1\" class=\"dataframe\">\n",
       "  <thead>\n",
       "    <tr>\n",
       "      <th></th>\n",
       "      <th>State</th>\n",
       "      <th colspan=\"2\" halign=\"left\">NY</th>\n",
       "      <th colspan=\"2\" halign=\"left\">LA</th>\n",
       "    </tr>\n",
       "    <tr>\n",
       "      <th></th>\n",
       "      <th>Temp</th>\n",
       "      <th>Cold</th>\n",
       "      <th>Hot</th>\n",
       "      <th>Cold</th>\n",
       "      <th>Hot</th>\n",
       "    </tr>\n",
       "    <tr>\n",
       "      <th>Year</th>\n",
       "      <th>Month</th>\n",
       "      <th></th>\n",
       "      <th></th>\n",
       "      <th></th>\n",
       "      <th></th>\n",
       "    </tr>\n",
       "  </thead>\n",
       "  <tbody>\n",
       "    <tr>\n",
       "      <th rowspan=\"2\" valign=\"top\">2018</th>\n",
       "      <th>Jan</th>\n",
       "      <td>0</td>\n",
       "      <td>1</td>\n",
       "      <td>2</td>\n",
       "      <td>3</td>\n",
       "    </tr>\n",
       "    <tr>\n",
       "      <th>Feb</th>\n",
       "      <td>4</td>\n",
       "      <td>5</td>\n",
       "      <td>6</td>\n",
       "      <td>7</td>\n",
       "    </tr>\n",
       "    <tr>\n",
       "      <th rowspan=\"2\" valign=\"top\">2019</th>\n",
       "      <th>Jan</th>\n",
       "      <td>8</td>\n",
       "      <td>9</td>\n",
       "      <td>10</td>\n",
       "      <td>11</td>\n",
       "    </tr>\n",
       "    <tr>\n",
       "      <th>Feb</th>\n",
       "      <td>12</td>\n",
       "      <td>13</td>\n",
       "      <td>14</td>\n",
       "      <td>15</td>\n",
       "    </tr>\n",
       "  </tbody>\n",
       "</table>\n",
       "</div>"
      ],
      "text/plain": [
       "State        NY       LA    \n",
       "Temp       Cold Hot Cold Hot\n",
       "Year Month                  \n",
       "2018 Jan      0   1    2   3\n",
       "     Feb      4   5    6   7\n",
       "2019 Jan      8   9   10  11\n",
       "     Feb     12  13   14  15"
      ]
     },
     "execution_count": 118,
     "metadata": {},
     "output_type": "execute_result"
    }
   ],
   "source": [
    "# Add index to column names\n",
    "df_temp.index.names=['Year','Month']\n",
    "df_temp.columns.names=['State','Temp']\n",
    "df_temp"
   ]
  },
  {
   "cell_type": "code",
   "execution_count": 119,
   "id": "823df136-b20e-4e5e-98a3-f1703976b32d",
   "metadata": {},
   "outputs": [
    {
     "data": {
      "text/html": [
       "<div>\n",
       "<style scoped>\n",
       "    .dataframe tbody tr th:only-of-type {\n",
       "        vertical-align: middle;\n",
       "    }\n",
       "\n",
       "    .dataframe tbody tr th {\n",
       "        vertical-align: top;\n",
       "    }\n",
       "\n",
       "    .dataframe thead tr th {\n",
       "        text-align: left;\n",
       "    }\n",
       "\n",
       "    .dataframe thead tr:last-of-type th {\n",
       "        text-align: right;\n",
       "    }\n",
       "</style>\n",
       "<table border=\"1\" class=\"dataframe\">\n",
       "  <thead>\n",
       "    <tr>\n",
       "      <th></th>\n",
       "      <th>Temp</th>\n",
       "      <th>Cold</th>\n",
       "      <th>Hot</th>\n",
       "      <th>Cold</th>\n",
       "      <th>Hot</th>\n",
       "    </tr>\n",
       "    <tr>\n",
       "      <th></th>\n",
       "      <th>State</th>\n",
       "      <th>NY</th>\n",
       "      <th>NY</th>\n",
       "      <th>LA</th>\n",
       "      <th>LA</th>\n",
       "    </tr>\n",
       "    <tr>\n",
       "      <th>Year</th>\n",
       "      <th>Month</th>\n",
       "      <th></th>\n",
       "      <th></th>\n",
       "      <th></th>\n",
       "      <th></th>\n",
       "    </tr>\n",
       "  </thead>\n",
       "  <tbody>\n",
       "    <tr>\n",
       "      <th rowspan=\"2\" valign=\"top\">2018</th>\n",
       "      <th>Jan</th>\n",
       "      <td>0</td>\n",
       "      <td>1</td>\n",
       "      <td>2</td>\n",
       "      <td>3</td>\n",
       "    </tr>\n",
       "    <tr>\n",
       "      <th>Feb</th>\n",
       "      <td>4</td>\n",
       "      <td>5</td>\n",
       "      <td>6</td>\n",
       "      <td>7</td>\n",
       "    </tr>\n",
       "    <tr>\n",
       "      <th rowspan=\"2\" valign=\"top\">2019</th>\n",
       "      <th>Jan</th>\n",
       "      <td>8</td>\n",
       "      <td>9</td>\n",
       "      <td>10</td>\n",
       "      <td>11</td>\n",
       "    </tr>\n",
       "    <tr>\n",
       "      <th>Feb</th>\n",
       "      <td>12</td>\n",
       "      <td>13</td>\n",
       "      <td>14</td>\n",
       "      <td>15</td>\n",
       "    </tr>\n",
       "  </tbody>\n",
       "</table>\n",
       "</div>"
      ],
      "text/plain": [
       "Temp       Cold Hot Cold Hot\n",
       "State        NY  NY   LA  LA\n",
       "Year Month                  \n",
       "2018 Jan      0   1    2   3\n",
       "     Feb      4   5    6   7\n",
       "2019 Jan      8   9   10  11\n",
       "     Feb     12  13   14  15"
      ]
     },
     "execution_count": 119,
     "metadata": {},
     "output_type": "execute_result"
    }
   ],
   "source": [
    "# It is possible to swap level for patricualr axis\n",
    "df_temp.swaplevel('State','Temp',axis=1)"
   ]
  },
  {
   "cell_type": "code",
   "execution_count": 123,
   "id": "52d10174-36d9-4d2e-aa8f-f84b8852cdef",
   "metadata": {},
   "outputs": [
    {
     "data": {
      "text/html": [
       "<div>\n",
       "<style scoped>\n",
       "    .dataframe tbody tr th:only-of-type {\n",
       "        vertical-align: middle;\n",
       "    }\n",
       "\n",
       "    .dataframe tbody tr th {\n",
       "        vertical-align: top;\n",
       "    }\n",
       "\n",
       "    .dataframe thead tr th {\n",
       "        text-align: left;\n",
       "    }\n",
       "\n",
       "    .dataframe thead tr:last-of-type th {\n",
       "        text-align: right;\n",
       "    }\n",
       "</style>\n",
       "<table border=\"1\" class=\"dataframe\">\n",
       "  <thead>\n",
       "    <tr>\n",
       "      <th></th>\n",
       "      <th>State</th>\n",
       "      <th colspan=\"2\" halign=\"left\">NY</th>\n",
       "      <th colspan=\"2\" halign=\"left\">LA</th>\n",
       "    </tr>\n",
       "    <tr>\n",
       "      <th></th>\n",
       "      <th>Temp</th>\n",
       "      <th>Cold</th>\n",
       "      <th>Hot</th>\n",
       "      <th>Cold</th>\n",
       "      <th>Hot</th>\n",
       "    </tr>\n",
       "    <tr>\n",
       "      <th>Year</th>\n",
       "      <th>Month</th>\n",
       "      <th></th>\n",
       "      <th></th>\n",
       "      <th></th>\n",
       "      <th></th>\n",
       "    </tr>\n",
       "  </thead>\n",
       "  <tbody>\n",
       "    <tr>\n",
       "      <th rowspan=\"2\" valign=\"top\">2018</th>\n",
       "      <th>Feb</th>\n",
       "      <td>4</td>\n",
       "      <td>5</td>\n",
       "      <td>6</td>\n",
       "      <td>7</td>\n",
       "    </tr>\n",
       "    <tr>\n",
       "      <th>Jan</th>\n",
       "      <td>0</td>\n",
       "      <td>1</td>\n",
       "      <td>2</td>\n",
       "      <td>3</td>\n",
       "    </tr>\n",
       "    <tr>\n",
       "      <th rowspan=\"2\" valign=\"top\">2019</th>\n",
       "      <th>Feb</th>\n",
       "      <td>12</td>\n",
       "      <td>13</td>\n",
       "      <td>14</td>\n",
       "      <td>15</td>\n",
       "    </tr>\n",
       "    <tr>\n",
       "      <th>Jan</th>\n",
       "      <td>8</td>\n",
       "      <td>9</td>\n",
       "      <td>10</td>\n",
       "      <td>11</td>\n",
       "    </tr>\n",
       "  </tbody>\n",
       "</table>\n",
       "</div>"
      ],
      "text/plain": [
       "State        NY       LA    \n",
       "Temp       Cold Hot Cold Hot\n",
       "Year Month                  \n",
       "2018 Feb      4   5    6   7\n",
       "     Jan      0   1    2   3\n",
       "2019 Feb     12  13   14  15\n",
       "     Jan      8   9   10  11"
      ]
     },
     "execution_count": 123,
     "metadata": {},
     "output_type": "execute_result"
    }
   ],
   "source": [
    "# Sorting based on the first level of the index\n",
    "df_temp.sort_index(level=0)"
   ]
  },
  {
   "cell_type": "code",
   "execution_count": 124,
   "id": "0804aa48-8b90-48d6-9a39-a2e559b4406d",
   "metadata": {},
   "outputs": [
    {
     "data": {
      "text/plain": [
       "Year  Month\n",
       "2018  Jan       0\n",
       "      Feb       4\n",
       "2019  Jan       8\n",
       "      Feb      12\n",
       "Name: Cold, dtype: int32"
      ]
     },
     "execution_count": 124,
     "metadata": {},
     "output_type": "execute_result"
    }
   ],
   "source": [
    "# Access single coloumns in a multi-index DF\n",
    "df_temp['NY']['Cold']"
   ]
  },
  {
   "cell_type": "code",
   "execution_count": 125,
   "id": "98cd6b42-cdc9-45d6-ac62-246b126ba9d5",
   "metadata": {},
   "outputs": [
    {
     "data": {
      "text/plain": [
       "State  Temp\n",
       "NY     Cold    0\n",
       "       Hot     1\n",
       "LA     Cold    2\n",
       "       Hot     3\n",
       "Name: (2018, Jan), dtype: int32"
      ]
     },
     "execution_count": 125,
     "metadata": {},
     "output_type": "execute_result"
    }
   ],
   "source": [
    "# Can still use iloc\n",
    "df_temp.iloc[0]"
   ]
  },
  {
   "cell_type": "code",
   "execution_count": 126,
   "id": "d39fd7e4-fdcb-4ba6-a01e-1354be7a36c3",
   "metadata": {},
   "outputs": [
    {
     "data": {
      "text/plain": [
       "State  Temp\n",
       "NY     Cold    0\n",
       "       Hot     1\n",
       "LA     Cold    2\n",
       "       Hot     3\n",
       "Name: (2018, Jan), dtype: int32"
      ]
     },
     "execution_count": 126,
     "metadata": {},
     "output_type": "execute_result"
    }
   ],
   "source": [
    "# Can also still use loc\n",
    "df_temp.loc['2018','Jan']"
   ]
  },
  {
   "cell_type": "code",
   "execution_count": null,
   "id": "be103e8d-fc61-4f7a-8077-512f4a5a1693",
   "metadata": {},
   "outputs": [],
   "source": []
  }
 ],
 "metadata": {
  "kernelspec": {
   "display_name": "Python 3 (ipykernel)",
   "language": "python",
   "name": "python3"
  },
  "language_info": {
   "codemirror_mode": {
    "name": "ipython",
    "version": 3
   },
   "file_extension": ".py",
   "mimetype": "text/x-python",
   "name": "python",
   "nbconvert_exporter": "python",
   "pygments_lexer": "ipython3",
   "version": "3.11.9"
  }
 },
 "nbformat": 4,
 "nbformat_minor": 5
}
