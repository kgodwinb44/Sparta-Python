{
 "cells": [
  {
   "cell_type": "markdown",
   "id": "5123400d-8301-4318-ad7c-c2985415f4ad",
   "metadata": {},
   "source": [
    "# Pre Pandas Task"
   ]
  },
  {
   "cell_type": "markdown",
   "id": "01677b4b-0578-4e2d-a312-4f5e60c5f7fc",
   "metadata": {},
   "source": [
    "### How to Import pandas"
   ]
  },
  {
   "cell_type": "code",
   "execution_count": 8,
   "id": "dff2a007-23c0-4ee0-a82d-a9982e4424e1",
   "metadata": {},
   "outputs": [],
   "source": [
    "import pandas as pd\n",
    "import numpy as np"
   ]
  },
  {
   "cell_type": "markdown",
   "id": "476cccdc-f52a-4d5b-a17e-42c0ba232d96",
   "metadata": {},
   "source": [
    "### Why do you need to import numpy as well?"
   ]
  },
  {
   "cell_type": "markdown",
   "id": "b25d2f32-9305-4ec4-8476-14219a40e5c7",
   "metadata": {},
   "source": [
    "- Functions that we use in numpy that we use in pandas\n",
    "- Pandas is built ontop of numpy"
   ]
  },
  {
   "cell_type": "markdown",
   "id": "4a2a2cfd-ad08-47ba-9fe4-f1872f217670",
   "metadata": {},
   "source": [
    "### Creating a series from a list"
   ]
  },
  {
   "cell_type": "markdown",
   "id": "8e6897d8-9af3-45af-b746-6747e6dccac0",
   "metadata": {},
   "source": [
    "- pd.Series([])\n",
    "- One dimentional array\n",
    "- Ensures all elements have the same data type"
   ]
  },
  {
   "cell_type": "code",
   "execution_count": 41,
   "id": "fbac957e-2eae-4599-b64d-57b18872a5b9",
   "metadata": {},
   "outputs": [
    {
     "data": {
      "text/plain": [
       "0    10\n",
       "1    20\n",
       "2    30\n",
       "dtype: int64"
      ]
     },
     "execution_count": 41,
     "metadata": {},
     "output_type": "execute_result"
    }
   ],
   "source": [
    "data = [10,20,30]\n",
    "series = pd.Series(data)\n",
    "series"
   ]
  },
  {
   "cell_type": "markdown",
   "id": "757bf9ab-7fed-40f9-8ec7-ef8d94f4b4c0",
   "metadata": {},
   "source": [
    "### How do we access a single component of the series?"
   ]
  },
  {
   "cell_type": "code",
   "execution_count": 42,
   "id": "1a907bcd-39c3-4168-b1a2-23f9d24ed2cd",
   "metadata": {},
   "outputs": [
    {
     "data": {
      "text/plain": [
       "20"
      ]
     },
     "execution_count": 42,
     "metadata": {},
     "output_type": "execute_result"
    }
   ],
   "source": [
    "series[1]"
   ]
  },
  {
   "cell_type": "markdown",
   "id": "4178a9ff-c086-48e3-8bbb-7198229d25a8",
   "metadata": {},
   "source": [
    "### How do we access the index?"
   ]
  },
  {
   "cell_type": "code",
   "execution_count": 43,
   "id": "ed3544c0-1165-4da9-b0ca-c05a307ef731",
   "metadata": {},
   "outputs": [
    {
     "data": {
      "text/plain": [
       "RangeIndex(start=0, stop=3, step=1)"
      ]
     },
     "execution_count": 43,
     "metadata": {},
     "output_type": "execute_result"
    }
   ],
   "source": [
    "series.index"
   ]
  },
  {
   "cell_type": "markdown",
   "id": "f2d2a68c-959c-44bc-be50-7bb284f1a81c",
   "metadata": {},
   "source": [
    "### How do we access the values?"
   ]
  },
  {
   "cell_type": "code",
   "execution_count": 44,
   "id": "60e56bd7-3a1a-491d-a8c0-462d02b19f51",
   "metadata": {},
   "outputs": [
    {
     "data": {
      "text/plain": [
       "array([10, 20, 30], dtype=int64)"
      ]
     },
     "execution_count": 44,
     "metadata": {},
     "output_type": "execute_result"
    }
   ],
   "source": [
    "series.values"
   ]
  },
  {
   "cell_type": "markdown",
   "id": "b67f41d1-8e05-49f3-959d-1aa4b15590c1",
   "metadata": {},
   "source": [
    "### How do we access the data type?"
   ]
  },
  {
   "cell_type": "code",
   "execution_count": 45,
   "id": "82106eb3-77f3-4495-bf50-3f76e9eeda38",
   "metadata": {},
   "outputs": [
    {
     "data": {
      "text/plain": [
       "dtype('int64')"
      ]
     },
     "execution_count": 45,
     "metadata": {},
     "output_type": "execute_result"
    }
   ],
   "source": [
    "series.dtype"
   ]
  },
  {
   "cell_type": "markdown",
   "id": "457da008-82e9-4b06-a07b-812d97e43208",
   "metadata": {},
   "source": [
    "### Create a series with an index"
   ]
  },
  {
   "cell_type": "code",
   "execution_count": 46,
   "id": "c8eba4f3-7f15-4575-8521-a85efb37c440",
   "metadata": {},
   "outputs": [
    {
     "data": {
      "text/plain": [
       "a    10\n",
       "b    20\n",
       "c    30\n",
       "dtype: int64"
      ]
     },
     "execution_count": 46,
     "metadata": {},
     "output_type": "execute_result"
    }
   ],
   "source": [
    "x = pd.Series([10,20,30], index=['a','b','c'])\n",
    "\n",
    "x"
   ]
  },
  {
   "cell_type": "markdown",
   "id": "ab0b02e2-a164-4f1f-8bd5-f4c9e77e16dc",
   "metadata": {},
   "source": [
    "### Check the index of the series"
   ]
  },
  {
   "cell_type": "code",
   "execution_count": 47,
   "id": "2a9d0c68-8758-47a2-ae58-321ab36cbc18",
   "metadata": {},
   "outputs": [
    {
     "data": {
      "text/plain": [
       "Index(['a', 'b', 'c'], dtype='object')"
      ]
     },
     "execution_count": 47,
     "metadata": {},
     "output_type": "execute_result"
    }
   ],
   "source": [
    "x.index"
   ]
  },
  {
   "cell_type": "markdown",
   "id": "bb4d30fb-eb63-42a1-8d80-848472954a6d",
   "metadata": {},
   "source": [
    "### Access the value using a positional index\n",
    "\n",
    "- iloc[position]\n",
    "- integer location based indexing"
   ]
  },
  {
   "cell_type": "code",
   "execution_count": 48,
   "id": "3312cd00-040c-44d6-856d-b57d0a8f7978",
   "metadata": {},
   "outputs": [
    {
     "data": {
      "text/plain": [
       "20"
      ]
     },
     "execution_count": 48,
     "metadata": {},
     "output_type": "execute_result"
    }
   ],
   "source": [
    "x.iloc[1]"
   ]
  },
  {
   "cell_type": "markdown",
   "id": "2593556d-b112-4b9f-aea4-c9b5f4835c3e",
   "metadata": {},
   "source": [
    "### Filter for data based on conditions\n",
    "\n",
    "- series [condition]"
   ]
  },
  {
   "cell_type": "code",
   "execution_count": 49,
   "id": "9e1c86e7-664e-45cf-9f44-c5fef022a748",
   "metadata": {},
   "outputs": [
    {
     "data": {
      "text/plain": [
       "c    30\n",
       "dtype: int64"
      ]
     },
     "execution_count": 49,
     "metadata": {},
     "output_type": "execute_result"
    }
   ],
   "source": [
    "x[x>20]"
   ]
  },
  {
   "cell_type": "markdown",
   "id": "2ef32d8e-b511-4305-8ae5-c3d347f6dc3b",
   "metadata": {},
   "source": [
    "### Use Comparison operators (boolean values)"
   ]
  },
  {
   "cell_type": "code",
   "execution_count": 50,
   "id": "b635b695-3c13-49fd-b608-a001d4fa1bdb",
   "metadata": {},
   "outputs": [
    {
     "data": {
      "text/plain": [
       "a    False\n",
       "b     True\n",
       "c     True\n",
       "dtype: bool"
      ]
     },
     "execution_count": 50,
     "metadata": {},
     "output_type": "execute_result"
    }
   ],
   "source": [
    "x > 15"
   ]
  },
  {
   "cell_type": "markdown",
   "id": "90880cbb-6929-4a1d-8877-5b1c370f3ef0",
   "metadata": {},
   "source": [
    "### Check names in an index"
   ]
  },
  {
   "cell_type": "code",
   "execution_count": 54,
   "id": "eef690ab-e94d-4d1e-9ca9-75e24b2f4e3e",
   "metadata": {},
   "outputs": [
    {
     "data": {
      "text/plain": [
       "True"
      ]
     },
     "execution_count": 54,
     "metadata": {},
     "output_type": "execute_result"
    }
   ],
   "source": [
    "1 in series.index"
   ]
  },
  {
   "cell_type": "markdown",
   "id": "3daa27f0-a47d-4234-a30d-81e9c6110c4f",
   "metadata": {},
   "source": [
    "### Convert a dictionary to a series"
   ]
  },
  {
   "cell_type": "code",
   "execution_count": 58,
   "id": "a35cbf08-7e8e-4725-be9b-59d520d97bac",
   "metadata": {},
   "outputs": [
    {
     "data": {
      "text/plain": [
       "a    10\n",
       "b    20\n",
       "c    30\n",
       "dtype: int64"
      ]
     },
     "execution_count": 58,
     "metadata": {},
     "output_type": "execute_result"
    }
   ],
   "source": [
    "data = {'a':10, 'b':20, 'c':30}\n",
    "toseries = pd.Series(data)\n",
    "toseries"
   ]
  },
  {
   "cell_type": "markdown",
   "id": "fd24c458-83c0-4010-acce-1e3bfedca0b8",
   "metadata": {},
   "source": [
    "### Create a new series from an exsiting series"
   ]
  },
  {
   "cell_type": "code",
   "execution_count": 62,
   "id": "fb23490b-4330-473c-882d-e55e15e76e3c",
   "metadata": {},
   "outputs": [
    {
     "data": {
      "text/plain": [
       "0    10\n",
       "1    20\n",
       "2    30\n",
       "dtype: int64"
      ]
     },
     "execution_count": 62,
     "metadata": {},
     "output_type": "execute_result"
    }
   ],
   "source": [
    "g = pd.Series([10,20,30])\n",
    "h = g.copy()\n",
    "h"
   ]
  },
  {
   "cell_type": "markdown",
   "id": "1ddd927d-e150-41fb-8620-9f2cc04e6968",
   "metadata": {},
   "source": [
    "### What values are given to the index added, if none are provided?\n",
    "\n",
    "- By default index starts from 0"
   ]
  },
  {
   "cell_type": "code",
   "execution_count": 64,
   "id": "c7addbde-3384-4185-8d6f-f0081b220ad1",
   "metadata": {},
   "outputs": [
    {
     "data": {
      "text/plain": [
       "RangeIndex(start=0, stop=3, step=1)"
      ]
     },
     "execution_count": 64,
     "metadata": {},
     "output_type": "execute_result"
    }
   ],
   "source": [
    "h.index"
   ]
  },
  {
   "cell_type": "markdown",
   "id": "a932fba1-4453-458a-97a1-8fdb5fd73c02",
   "metadata": {},
   "source": [
    "### How do you check for NaN values?\n",
    "\n",
    "- isna()\n",
    "- Missing value\n",
    "- Boolean"
   ]
  },
  {
   "cell_type": "code",
   "execution_count": 74,
   "id": "dcf7cc1e-09f0-4ca8-a10e-0b9d8fb2b393",
   "metadata": {},
   "outputs": [
    {
     "data": {
      "text/plain": [
       "0    False\n",
       "1    False\n",
       "2    False\n",
       "dtype: bool"
      ]
     },
     "execution_count": 74,
     "metadata": {},
     "output_type": "execute_result"
    }
   ],
   "source": [
    "h.isna()"
   ]
  },
  {
   "cell_type": "markdown",
   "id": "ac3717a0-832a-454c-a546-ce6e793dd9a4",
   "metadata": {},
   "source": [
    "### How do you check for Nulls?\n",
    "\n",
    "- Boolean"
   ]
  },
  {
   "cell_type": "code",
   "execution_count": 76,
   "id": "401ab56a-0880-41cb-8606-a517793029c0",
   "metadata": {},
   "outputs": [
    {
     "data": {
      "text/plain": [
       "0    False\n",
       "1    False\n",
       "2    False\n",
       "dtype: bool"
      ]
     },
     "execution_count": 76,
     "metadata": {},
     "output_type": "execute_result"
    }
   ],
   "source": [
    "h.isnull()"
   ]
  },
  {
   "cell_type": "markdown",
   "id": "7d537b72-3deb-46fd-8f9b-0e735b3a2e36",
   "metadata": {},
   "source": [
    "### How do you name an index?\n",
    "\n",
    "- Can only name index not values"
   ]
  },
  {
   "cell_type": "code",
   "execution_count": 79,
   "id": "f3cd1255-972b-4287-a06a-686f7d313765",
   "metadata": {},
   "outputs": [
    {
     "data": {
      "text/plain": [
       "nums\n",
       "0    10\n",
       "1    20\n",
       "2    30\n",
       "dtype: int64"
      ]
     },
     "execution_count": 79,
     "metadata": {},
     "output_type": "execute_result"
    }
   ],
   "source": [
    "h.index.name = 'nums'\n",
    "h"
   ]
  },
  {
   "cell_type": "markdown",
   "id": "0286d359-c772-49cb-b7b0-552e99680ab5",
   "metadata": {},
   "source": [
    "### How do you name a series?"
   ]
  },
  {
   "cell_type": "code",
   "execution_count": 83,
   "id": "cde0e2e9-6cae-4b73-9bf6-481719a3a3c5",
   "metadata": {},
   "outputs": [
    {
     "data": {
      "text/plain": [
       "nums\n",
       "0    10\n",
       "1    20\n",
       "2    30\n",
       "Name: tens, dtype: int64"
      ]
     },
     "execution_count": 83,
     "metadata": {},
     "output_type": "execute_result"
    }
   ],
   "source": [
    "h.name = 'tens'\n",
    "h"
   ]
  },
  {
   "cell_type": "code",
   "execution_count": null,
   "id": "0580cf01-2f46-4709-9845-384f326e92fc",
   "metadata": {},
   "outputs": [],
   "source": []
  }
 ],
 "metadata": {
  "kernelspec": {
   "display_name": "Python 3 (ipykernel)",
   "language": "python",
   "name": "python3"
  },
  "language_info": {
   "codemirror_mode": {
    "name": "ipython",
    "version": 3
   },
   "file_extension": ".py",
   "mimetype": "text/x-python",
   "name": "python",
   "nbconvert_exporter": "python",
   "pygments_lexer": "ipython3",
   "version": "3.11.9"
  }
 },
 "nbformat": 4,
 "nbformat_minor": 5
}
