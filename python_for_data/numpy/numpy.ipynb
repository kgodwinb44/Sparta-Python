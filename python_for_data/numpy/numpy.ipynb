{
 "cells": [
  {
   "cell_type": "code",
   "execution_count": 1,
   "id": "d9fa97db-23c6-4604-8279-4beb05a495a2",
   "metadata": {},
   "outputs": [],
   "source": [
    "# importing numpy\n",
    "import numpy as np"
   ]
  },
  {
   "cell_type": "markdown",
   "id": "85a6f14d-02b3-4269-94cb-1c986dd62afc",
   "metadata": {},
   "source": [
    "## Creating arrays in numpy"
   ]
  },
  {
   "cell_type": "markdown",
   "id": "6c0ddab0-8818-4f6d-b1a4-23ac2f4fa608",
   "metadata": {},
   "source": [
    "### Creating an array from a Python list"
   ]
  },
  {
   "cell_type": "code",
   "execution_count": 2,
   "id": "e6528a03-2e76-4b3b-8645-c46f318e6064",
   "metadata": {},
   "outputs": [
    {
     "data": {
      "text/plain": [
       "[10, 20, 30]"
      ]
     },
     "execution_count": 2,
     "metadata": {},
     "output_type": "execute_result"
    }
   ],
   "source": [
    "list1 = [10,20,30]\n",
    "list1"
   ]
  },
  {
   "cell_type": "code",
   "execution_count": 3,
   "id": "c53b9161-ff18-49ae-8371-dee5d72ce308",
   "metadata": {},
   "outputs": [
    {
     "data": {
      "text/plain": [
       "array([10, 20, 30])"
      ]
     },
     "execution_count": 3,
     "metadata": {},
     "output_type": "execute_result"
    }
   ],
   "source": [
    "arr1 = np.array(list1)\n",
    "arr1"
   ]
  },
  {
   "cell_type": "code",
   "execution_count": 5,
   "id": "f2191198-ba1c-48ca-a9e3-b4814ea20467",
   "metadata": {},
   "outputs": [
    {
     "data": {
      "text/plain": [
       "numpy.ndarray"
      ]
     },
     "execution_count": 5,
     "metadata": {},
     "output_type": "execute_result"
    }
   ],
   "source": [
    "# We can check the type of arr1, we can see it is an ndarray \n",
    "# (or n-dimensional array)\n",
    "# In this case we have only created a one dimensional array so far\n",
    "type(arr1)"
   ]
  },
  {
   "cell_type": "markdown",
   "id": "9db9ffe3-6681-4a98-8fd7-37407006e935",
   "metadata": {},
   "source": [
    "### Using arange() to create an array"
   ]
  },
  {
   "cell_type": "markdown",
   "id": "025defc2-8cf2-4a0c-b6e4-9b07760b6f38",
   "metadata": {},
   "source": [
    "arrange() creates an array from a range of numbers"
   ]
  },
  {
   "cell_type": "code",
   "execution_count": 8,
   "id": "cb157008-1c96-4b57-b5c1-b21a236a3d38",
   "metadata": {},
   "outputs": [
    {
     "data": {
      "text/plain": [
       "array([10, 11, 12, 13, 14, 15, 16, 17, 18, 19])"
      ]
     },
     "execution_count": 8,
     "metadata": {},
     "output_type": "execute_result"
    }
   ],
   "source": [
    "arr2 = np.arange(10,20,1) # (Start, Stop, Increment)\n",
    "arr2"
   ]
  },
  {
   "cell_type": "markdown",
   "id": "b9e677e8-125d-466c-abc3-eea6ed8419b1",
   "metadata": {},
   "source": [
    "### Multi-dimensional arrays"
   ]
  },
  {
   "cell_type": "markdown",
   "id": "24c64eb3-7412-4f25-a76e-cfd308cd649d",
   "metadata": {},
   "source": [
    "When we combine arrays together we can add dimensions. So two arrays together makes a 2d array, this creates a matrix for use to do matrix operations"
   ]
  },
  {
   "cell_type": "code",
   "execution_count": 11,
   "id": "14ba6074-aadb-4a10-88fd-c6b1d9f2f71f",
   "metadata": {},
   "outputs": [
    {
     "data": {
      "text/plain": [
       "array([[10, 20, 30],\n",
       "       [40, 50, 60]])"
      ]
     },
     "execution_count": 11,
     "metadata": {},
     "output_type": "execute_result"
    }
   ],
   "source": [
    "# Creating a new list to join to first one\n",
    "list2 = [40,50,60]\n",
    "\n",
    "# Join the lists together\n",
    "list3 = [list1, list2]\n",
    "list3\n",
    "\n",
    "# Create 2-D array from the joined lists\n",
    "arr3 = np.array(list3)\n",
    "arr3"
   ]
  },
  {
   "cell_type": "code",
   "execution_count": 12,
   "id": "3bbbb921-350e-40ab-a79a-52a6c4f07283",
   "metadata": {},
   "outputs": [
    {
     "data": {
      "text/plain": [
       "(2, 3)"
      ]
     },
     "execution_count": 12,
     "metadata": {},
     "output_type": "execute_result"
    }
   ],
   "source": [
    "# Lets find the shape of the array\n",
    "arr3.shape"
   ]
  },
  {
   "cell_type": "markdown",
   "id": "0ca13f17-df07-4cce-8582-e6493cd86319",
   "metadata": {},
   "source": [
    "#### Three Dimensional Arrays"
   ]
  },
  {
   "cell_type": "code",
   "execution_count": 14,
   "id": "b1fc4567-98ef-4d8c-8693-e444746c64c5",
   "metadata": {},
   "outputs": [
    {
     "data": {
      "text/plain": [
       "array([[[1, 2, 3],\n",
       "        [4, 5, 6]],\n",
       "\n",
       "       [[5, 6, 7],\n",
       "        [7, 8, 9]]])"
      ]
     },
     "execution_count": 14,
     "metadata": {},
     "output_type": "execute_result"
    }
   ],
   "source": [
    "arr3dim = np.array([[[1,2,3],[4,5,6]],[[5,6,7],[7,8,9]]])\n",
    "arr3dim"
   ]
  },
  {
   "cell_type": "code",
   "execution_count": 15,
   "id": "eefd9a85-7250-40ef-ae2e-a7e9471e4cb7",
   "metadata": {},
   "outputs": [
    {
     "data": {
      "text/plain": [
       "(2, 2, 3)"
      ]
     },
     "execution_count": 15,
     "metadata": {},
     "output_type": "execute_result"
    }
   ],
   "source": [
    "arr3dim.shape"
   ]
  },
  {
   "cell_type": "markdown",
   "id": "cc68c25e-461d-4438-9f6e-e868a510c35f",
   "metadata": {},
   "source": [
    "### Using arrays and scalars"
   ]
  },
  {
   "cell_type": "code",
   "execution_count": 17,
   "id": "2e4f02bf-3052-4f96-bd54-50e14083f0d2",
   "metadata": {},
   "outputs": [
    {
     "data": {
      "text/plain": [
       "array([[[ 3,  6,  9],\n",
       "        [12, 15, 18]],\n",
       "\n",
       "       [[15, 18, 21],\n",
       "        [21, 24, 27]]])"
      ]
     },
     "execution_count": 17,
     "metadata": {},
     "output_type": "execute_result"
    }
   ],
   "source": [
    "# We can perform simple multiplication to our ndarrays\n",
    "# For example\n",
    "arr3dim * 3"
   ]
  },
  {
   "cell_type": "code",
   "execution_count": 21,
   "id": "578d576b-1909-43fb-9051-96f407465f51",
   "metadata": {},
   "outputs": [
    {
     "data": {
      "text/plain": [
       "[10, 20, 30, 10, 20, 30, 10, 20, 30]"
      ]
     },
     "execution_count": 21,
     "metadata": {},
     "output_type": "execute_result"
    }
   ],
   "source": [
    "# How is this different to\n",
    "list1 * 3\n",
    "\n",
    "# Duplicates the list 3 times"
   ]
  },
  {
   "cell_type": "markdown",
   "id": "4bd1eeb1-1ae6-4c09-8c56-05fb455415ec",
   "metadata": {},
   "source": [
    "This is where numpy comes in, arryas and lists are treated differently\n",
    "\n",
    "We can also multiply an array by another array using a matrix operation"
   ]
  },
  {
   "cell_type": "code",
   "execution_count": 22,
   "id": "dc19b851-3a17-412f-bc6d-ce3138034aca",
   "metadata": {},
   "outputs": [
    {
     "data": {
      "text/plain": [
       "array([40, 50, 60])"
      ]
     },
     "execution_count": 22,
     "metadata": {},
     "output_type": "execute_result"
    }
   ],
   "source": [
    "# Creating another array which has the same size as arr1\n",
    "arr11 = np.array(list2)\n",
    "arr11"
   ]
  },
  {
   "cell_type": "code",
   "execution_count": 24,
   "id": "e23ac29f-42bf-456a-85b0-449b05493ab1",
   "metadata": {},
   "outputs": [
    {
     "data": {
      "text/plain": [
       "array([1600, 2500, 3600])"
      ]
     },
     "execution_count": 24,
     "metadata": {},
     "output_type": "execute_result"
    }
   ],
   "source": [
    "# What will happend here\n",
    "arr1 * arr11\n",
    "\n",
    "# Individual numbers are multiplied based on their positions in their array"
   ]
  },
  {
   "cell_type": "code",
   "execution_count": 25,
   "id": "f9412470-1b3f-44de-a158-05310305a7e3",
   "metadata": {},
   "outputs": [
    {
     "ename": "ValueError",
     "evalue": "operands could not be broadcast together with shapes (3,) (10,) ",
     "output_type": "error",
     "traceback": [
      "\u001b[31m---------------------------------------------------------------------------\u001b[39m",
      "\u001b[31mValueError\u001b[39m                                Traceback (most recent call last)",
      "\u001b[36mCell\u001b[39m\u001b[36m \u001b[39m\u001b[32mIn[25]\u001b[39m\u001b[32m, line 2\u001b[39m\n\u001b[32m      1\u001b[39m \u001b[38;5;66;03m# What if we tried to multiply arrays of different size/ shapes?\u001b[39;00m\n\u001b[32m----> \u001b[39m\u001b[32m2\u001b[39m \u001b[43marr1\u001b[49m\u001b[43m \u001b[49m\u001b[43m*\u001b[49m\u001b[43m \u001b[49m\u001b[43marr2\u001b[49m\n",
      "\u001b[31mValueError\u001b[39m: operands could not be broadcast together with shapes (3,) (10,) "
     ]
    }
   ],
   "source": [
    "# What if we tried to multiply arrays of different size/ shapes?\n",
    "arr1 * arr2"
   ]
  },
  {
   "cell_type": "code",
   "execution_count": 32,
   "id": "e4b2d855-3068-4611-97ac-b1739acc0d5f",
   "metadata": {},
   "outputs": [
    {
     "data": {
      "text/plain": [
       "(2, 2, 3)"
      ]
     },
     "execution_count": 32,
     "metadata": {},
     "output_type": "execute_result"
    }
   ],
   "source": [
    "# But it is possible to multuply arrays of different dimesions but the same element size\n",
    "t = arr1 * arr3dim\n",
    "t.shape"
   ]
  },
  {
   "cell_type": "markdown",
   "id": "674a5b75-afbc-46b4-a230-93d735722324",
   "metadata": {},
   "source": [
    "## Task\n",
    "\n",
    "## Shape = (depth, rows, columns)\n",
    "\n",
    "Create ndarrays of the following sizes:\n",
    "One dimensional array with 12 elements (12,)\n",
    "Two dimensional array size (3, 4)\n",
    "Three dimensional array size (2, 5, 4)\n",
    "Check the size of your ndarray to ensure it is correct"
   ]
  },
  {
   "cell_type": "code",
   "execution_count": 59,
   "id": "8819abfd-af63-47c8-9a01-23e5335cd77c",
   "metadata": {},
   "outputs": [
    {
     "data": {
      "text/plain": [
       "28"
      ]
     },
     "execution_count": 59,
     "metadata": {},
     "output_type": "execute_result"
    }
   ],
   "source": [
    "#One dimensional array with 12 elements (12,)\n",
    "arr5 = np.arange(0,12,1)\n",
    "arr5\n",
    "\n",
    "# Two dimensional array size (3, 4)\n",
    "list5 = [10,20,30, 10]\n",
    "list6 = [40,50,60, 10]\n",
    "list7 = [70,80,90, 10]\n",
    "list8 = [list5,list6,list7]\n",
    "arrT = np.array(list8)\n",
    "arrT.shape\n",
    "\n",
    "# Three dimensional array size (2, 5, 4)\n",
    "arr5dim = np.array([\n",
    "    [\n",
    "        [1, 2, 3, 4],\n",
    "        [5, 6, 7, 8],\n",
    "        [9, 10, 11, 12],\n",
    "        [13, 14, 15, 16],\n",
    "        [17, 18, 19, 20]\n",
    "    ],\n",
    "    [\n",
    "        [21, 22, 23, 24],\n",
    "        [25, 26, 27, 28],\n",
    "        [29, 30, 31, 32],\n",
    "        [33, 34, 35, 36],\n",
    "        [37, 38, 39, 40]\n",
    "    ]\n",
    "])\n",
    "arr5dim.shape"
   ]
  },
  {
   "cell_type": "markdown",
   "id": "2f681098-ac72-4ec7-9161-cfda26f3404c",
   "metadata": {},
   "source": [
    "# Accessing values in ndarrays"
   ]
  },
  {
   "cell_type": "code",
   "execution_count": 52,
   "id": "49c9268e-ca5b-4894-a1b1-b192c9044700",
   "metadata": {},
   "outputs": [
    {
     "data": {
      "text/plain": [
       "array([[10, 20, 30],\n",
       "       [40, 50, 60]])"
      ]
     },
     "execution_count": 52,
     "metadata": {},
     "output_type": "execute_result"
    }
   ],
   "source": [
    "# How can we access the 60?\n",
    "arr3"
   ]
  },
  {
   "cell_type": "code",
   "execution_count": 56,
   "id": "4e487824-b63b-41ec-9464-59f41d9132a9",
   "metadata": {},
   "outputs": [
    {
     "data": {
      "text/plain": [
       "60"
      ]
     },
     "execution_count": 56,
     "metadata": {},
     "output_type": "execute_result"
    }
   ],
   "source": [
    "arr3[1][2]"
   ]
  },
  {
   "cell_type": "code",
   "execution_count": 57,
   "id": "455c33a1-7238-4a9a-b280-fcb7049abb81",
   "metadata": {},
   "outputs": [
    {
     "data": {
      "text/plain": [
       "60"
      ]
     },
     "execution_count": 57,
     "metadata": {},
     "output_type": "execute_result"
    }
   ],
   "source": [
    "# We can also use\n",
    "arr3[1,2]"
   ]
  },
  {
   "cell_type": "code",
   "execution_count": 60,
   "id": "9eaebcd7-98fd-4e41-b490-d17a0efd1282",
   "metadata": {},
   "outputs": [
    {
     "data": {
      "text/plain": [
       "array([30, 60])"
      ]
     },
     "execution_count": 60,
     "metadata": {},
     "output_type": "execute_result"
    }
   ],
   "source": [
    "# What if we want the last numbers in each row?\n",
    "arr3[:,2]"
   ]
  },
  {
   "cell_type": "code",
   "execution_count": 62,
   "id": "9408196b-ac9a-4efe-af08-e4069351325b",
   "metadata": {},
   "outputs": [
    {
     "data": {
      "text/plain": [
       "array([20, 50])"
      ]
     },
     "execution_count": 62,
     "metadata": {},
     "output_type": "execute_result"
    }
   ],
   "source": [
    "arr3[:,1]"
   ]
  },
  {
   "cell_type": "markdown",
   "id": "dd43e91c-d4a0-4165-a073-2fb59f1c493d",
   "metadata": {},
   "source": [
    "# Statistical functions and arrays\n",
    "\n",
    "There are many built in statistical functions"
   ]
  },
  {
   "cell_type": "code",
   "execution_count": 63,
   "id": "b504bf45-4aae-4454-8da0-b05e8b4cd7fe",
   "metadata": {},
   "outputs": [
    {
     "data": {
      "text/plain": [
       "210"
      ]
     },
     "execution_count": 63,
     "metadata": {},
     "output_type": "execute_result"
    }
   ],
   "source": [
    "# Sum of all values\n",
    "arr3.sum()"
   ]
  },
  {
   "cell_type": "code",
   "execution_count": 64,
   "id": "354244fd-d2b7-4384-b087-80e1a7cb1a15",
   "metadata": {},
   "outputs": [
    {
     "data": {
      "text/plain": [
       "array([50, 70, 90])"
      ]
     },
     "execution_count": 64,
     "metadata": {},
     "output_type": "execute_result"
    }
   ],
   "source": [
    "# Sum of all values column wise\n",
    "arr3.sum(0)"
   ]
  },
  {
   "cell_type": "code",
   "execution_count": 65,
   "id": "26990ed4-1958-458f-8c89-46605a2a7be1",
   "metadata": {},
   "outputs": [
    {
     "data": {
      "text/plain": [
       "array([ 60, 150])"
      ]
     },
     "execution_count": 65,
     "metadata": {},
     "output_type": "execute_result"
    }
   ],
   "source": [
    "# Sum of all values row wise\n",
    "arr3.sum(1)"
   ]
  },
  {
   "cell_type": "code",
   "execution_count": 66,
   "id": "58d632f1-c01f-40ca-a12d-2f1d5a2f66a8",
   "metadata": {},
   "outputs": [
    {
     "data": {
      "text/plain": [
       "35.0"
      ]
     },
     "execution_count": 66,
     "metadata": {},
     "output_type": "execute_result"
    }
   ],
   "source": [
    "# Find the mean\n",
    "arr3.mean()"
   ]
  },
  {
   "cell_type": "code",
   "execution_count": 68,
   "id": "1ca9d156-99cf-4738-a0a4-a3aa5e612ac2",
   "metadata": {},
   "outputs": [
    {
     "data": {
      "text/plain": [
       "17.07825127659933"
      ]
     },
     "execution_count": 68,
     "metadata": {},
     "output_type": "execute_result"
    }
   ],
   "source": [
    "# Find the SD\n",
    "arr3.std()"
   ]
  },
  {
   "cell_type": "code",
   "execution_count": 69,
   "id": "f75613dc-7956-4a5e-b1c8-0bfbc45d7a97",
   "metadata": {},
   "outputs": [
    {
     "data": {
      "text/plain": [
       "291.6666666666667"
      ]
     },
     "execution_count": 69,
     "metadata": {},
     "output_type": "execute_result"
    }
   ],
   "source": [
    "# Find the varience\n",
    "arr3.var()"
   ]
  },
  {
   "cell_type": "code",
   "execution_count": 70,
   "id": "620e5a46-4f41-4983-97a7-310f48507623",
   "metadata": {},
   "outputs": [
    {
     "data": {
      "text/plain": [
       "10"
      ]
     },
     "execution_count": 70,
     "metadata": {},
     "output_type": "execute_result"
    }
   ],
   "source": [
    "# Find the min\n",
    "arr3.min()"
   ]
  },
  {
   "cell_type": "code",
   "execution_count": 71,
   "id": "67370dfd-7475-443a-a96b-c19cb7ad297a",
   "metadata": {},
   "outputs": [
    {
     "data": {
      "text/plain": [
       "60"
      ]
     },
     "execution_count": 71,
     "metadata": {},
     "output_type": "execute_result"
    }
   ],
   "source": [
    "# Find the max\n",
    "arr3.max()"
   ]
  },
  {
   "cell_type": "markdown",
   "id": "cbea7510-5e16-4fd8-bc1a-5db8971709b1",
   "metadata": {},
   "source": [
    "#### Iterating through ndarryas"
   ]
  },
  {
   "cell_type": "code",
   "execution_count": 77,
   "id": "85d85aa0-b6fc-4095-a422-95b613dbca0a",
   "metadata": {},
   "outputs": [
    {
     "name": "stdout",
     "output_type": "stream",
     "text": [
      "40\n",
      "50\n",
      "60\n"
     ]
    }
   ],
   "source": [
    "# 1d array:\n",
    "for x in arr1:\n",
    "    print(x)"
   ]
  },
  {
   "cell_type": "code",
   "execution_count": 78,
   "id": "a6eea3a3-a1e2-4c3d-ade4-3052292cf8c1",
   "metadata": {},
   "outputs": [
    {
     "name": "stdout",
     "output_type": "stream",
     "text": [
      "10\n",
      "20\n",
      "30\n",
      "40\n",
      "50\n",
      "60\n"
     ]
    }
   ],
   "source": [
    "# 2d array:\n",
    "for dim in arr3:\n",
    "    for num in dim:\n",
    "        print(num)"
   ]
  },
  {
   "cell_type": "code",
   "execution_count": 79,
   "id": "a91e30de-b2c0-4bca-b864-bc37b71eab47",
   "metadata": {},
   "outputs": [
    {
     "name": "stdout",
     "output_type": "stream",
     "text": [
      "10\n",
      "20\n",
      "30\n",
      "40\n",
      "50\n",
      "60\n"
     ]
    }
   ],
   "source": [
    "# Alternative:\n",
    "for x in np.nditer(arr3):\n",
    "    print(x)\n"
   ]
  },
  {
   "cell_type": "markdown",
   "id": "2441f2be-4a79-45f0-a2a6-9fa521a03707",
   "metadata": {},
   "source": [
    "#### Saving and loading in numpy"
   ]
  },
  {
   "cell_type": "code",
   "execution_count": 80,
   "id": "0a08db29-15d9-4864-b218-3b64c4be1268",
   "metadata": {},
   "outputs": [],
   "source": [
    "# To save an array as file\n",
    "np.save('new', arr3)"
   ]
  },
  {
   "cell_type": "code",
   "execution_count": 81,
   "id": "c3b99b70-8495-4279-b894-3721108a4c30",
   "metadata": {},
   "outputs": [
    {
     "data": {
      "text/plain": [
       "array([[10, 20, 30],\n",
       "       [40, 50, 60]])"
      ]
     },
     "execution_count": 81,
     "metadata": {},
     "output_type": "execute_result"
    }
   ],
   "source": [
    "# Load file\n",
    "np.load('new.npy')"
   ]
  },
  {
   "cell_type": "code",
   "execution_count": 82,
   "id": "d728f0b8-b105-42c6-bd67-dd044f8172e7",
   "metadata": {},
   "outputs": [],
   "source": [
    "# Saving as txt\n",
    "np.savetxt('new.txt', arr3, delimiter=',')"
   ]
  },
  {
   "cell_type": "code",
   "execution_count": 83,
   "id": "494f8d47-0b32-499f-a01d-f1acc93b7eb8",
   "metadata": {},
   "outputs": [
    {
     "data": {
      "text/plain": [
       "array([[10., 20., 30.],\n",
       "       [40., 50., 60.]])"
      ]
     },
     "execution_count": 83,
     "metadata": {},
     "output_type": "execute_result"
    }
   ],
   "source": [
    "# Load txt\n",
    "np.loadtxt('new.txt', delimiter=',')"
   ]
  },
  {
   "cell_type": "code",
   "execution_count": null,
   "id": "18b3071b-8630-46fd-9aa1-42cb493ebdf2",
   "metadata": {},
   "outputs": [],
   "source": []
  }
 ],
 "metadata": {
  "kernelspec": {
   "display_name": "Python 3 (ipykernel)",
   "language": "python",
   "name": "python3"
  },
  "language_info": {
   "codemirror_mode": {
    "name": "ipython",
    "version": 3
   },
   "file_extension": ".py",
   "mimetype": "text/x-python",
   "name": "python",
   "nbconvert_exporter": "python",
   "pygments_lexer": "ipython3",
   "version": "3.11.9"
  }
 },
 "nbformat": 4,
 "nbformat_minor": 5
}
